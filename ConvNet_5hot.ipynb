{
 "cells": [
  {
   "cell_type": "code",
   "execution_count": 7,
   "metadata": {},
   "outputs": [
    {
     "name": "stdout",
     "output_type": "stream",
     "text": [
      "The autoreload extension is already loaded. To reload it, use:\n",
      "  %reload_ext autoreload\n"
     ]
    }
   ],
   "source": [
    "%load_ext autoreload\n",
    "%autoreload 2"
   ]
  },
  {
   "cell_type": "code",
   "execution_count": 41,
   "metadata": {},
   "outputs": [
    {
     "name": "stdout",
     "output_type": "stream",
     "text": [
      "Done\n"
     ]
    }
   ],
   "source": [
    "import numpy as np\n",
    "from load_5hot import load\n",
    "from keras import layers\n",
    "from keras.layers import Input, Dense, Activation, ZeroPadding2D, BatchNormalization, Flatten, Conv2D, Conv1D, Add, Reshape\n",
    "from keras.layers import AveragePooling2D, UpSampling2D, MaxPooling2D, Dropout, GlobalMaxPooling2D, GlobalAveragePooling2D\n",
    "from keras.preprocessing import image\n",
    "from keras.utils import layer_utils\n",
    "from keras.utils.data_utils import get_file\n",
    "from keras.applications.imagenet_utils import preprocess_input\n",
    "from IPython.display import SVG\n",
    "from keras.utils.vis_utils import model_to_dot\n",
    "from keras.utils import plot_model\n",
    "import keras.backend as K\n",
    "from keras.layers.advanced_activations import LeakyReLU\n",
    "from keras.layers.convolutional import Conv2DTranspose\n",
    "from keras.layers.core import Lambda\n",
    "from keras.models import Model\n",
    "import matplotlib.pyplot as plt\n",
    "import datetime\n",
    "from keras.activations import softmax\n",
    "\n",
    "K.set_image_data_format('channels_last')\n",
    "print('Done')"
   ]
  },
  {
   "cell_type": "code",
   "execution_count": 2,
   "metadata": {},
   "outputs": [
    {
     "name": "stdout",
     "output_type": "stream",
     "text": [
      "Loading data...\n",
      "58863 sequences were uploaded\n",
      "\n",
      "Maximum sequence length in is 308\n",
      "Maximum sequence length out is 308\n",
      "\n",
      "Converting to one-hot...\n",
      "Done\n",
      "Converting to one-hot...\n",
      "Done\n"
     ]
    }
   ],
   "source": [
    "[X_train,Y_train,X_test,Y_test] = load(\"blast_tab_1hit.out\")"
   ]
  },
  {
   "cell_type": "code",
   "execution_count": 7,
   "metadata": {},
   "outputs": [
    {
     "name": "stdout",
     "output_type": "stream",
     "text": [
      "There are 55996 training examples\n",
      "There are 2867 testing examples\n",
      "There are 5 classes: A, C, G, T, -\n",
      "The longest sequence is 308 nucleotides long\n",
      "X_train shape is:\n",
      "(55996, 5, 308, 1)\n"
     ]
    }
   ],
   "source": [
    "m = X_train.shape[0]\n",
    "print(\"There are \" + str(m) + \" training examples\")\n",
    "print(\"There are \" + str(X_test.shape[0]) + \" testing examples\")\n",
    "print(\"There are \" + str(X_train.shape[1]) + \" classes: A, C, G, T, -\")\n",
    "max_length = max(X_train.shape[2],X_test.shape[2])\n",
    "print(\"The longest sequence is \" + str(max_length) + \" nucleotides long\")\n",
    "print(\"X_train shape is:\")\n",
    "print(X_train.shape)"
   ]
  },
  {
   "cell_type": "code",
   "execution_count": 8,
   "metadata": {},
   "outputs": [
    {
     "name": "stdout",
     "output_type": "stream",
     "text": [
      "Permuting...\n",
      "finished X\n",
      "finished Y\n"
     ]
    }
   ],
   "source": [
    "print('Permuting...')\n",
    "np.random.seed(0)\n",
    "rand_perm = np.random.rand(m).argsort()\n",
    "np.take(X_train,rand_perm,axis=0,out=X_train)\n",
    "print(\"finished X\")\n",
    "np.take(Y_train,rand_perm,axis=0,out=Y_train)\n",
    "print(\"finished Y\")"
   ]
  },
  {
   "cell_type": "code",
   "execution_count": 9,
   "metadata": {},
   "outputs": [
    {
     "name": "stdout",
     "output_type": "stream",
     "text": [
      "[[0. 0. 1. 0. 0. 0. 0. 0. 0. 0. 0. 0. 0. 0. 1. 1. 0. 0. 1. 0.]\n",
      " [1. 0. 0. 0. 1. 0. 0. 0. 0. 0. 0. 1. 0. 0. 0. 0. 0. 0. 0. 0.]\n",
      " [0. 1. 0. 1. 0. 1. 0. 0. 1. 0. 0. 0. 1. 1. 0. 0. 0. 0. 0. 0.]\n",
      " [0. 0. 0. 0. 0. 0. 1. 1. 0. 1. 1. 0. 0. 0. 0. 0. 1. 1. 0. 1.]\n",
      " [0. 0. 0. 0. 0. 0. 0. 0. 0. 0. 0. 0. 0. 0. 0. 0. 0. 0. 0. 0.]]\n",
      "[[0. 0. 1. 0. 0. 0. 0. 0. 0. 0. 0. 0. 0. 0. 1. 1. 0. 0. 1. 0.]\n",
      " [1. 0. 0. 0. 1. 0. 0. 0. 0. 0. 0. 1. 0. 0. 0. 0. 0. 0. 0. 0.]\n",
      " [0. 1. 0. 1. 0. 1. 0. 0. 1. 0. 0. 0. 1. 1. 0. 0. 0. 0. 0. 0.]\n",
      " [0. 0. 0. 0. 0. 0. 1. 1. 0. 1. 1. 0. 0. 0. 0. 0. 1. 1. 0. 1.]\n",
      " [0. 0. 0. 0. 0. 0. 0. 0. 0. 0. 0. 0. 0. 0. 0. 0. 0. 0. 0. 0.]]\n"
     ]
    }
   ],
   "source": [
    "# Visualize data sets to ensure they appear as anticipated\n",
    "sample = 300\n",
    "print(X_train[sample,:,10:30,0])\n",
    "print(Y_train[sample,:,10:30,0])"
   ]
  },
  {
   "cell_type": "code",
   "execution_count": 55,
   "metadata": {},
   "outputs": [],
   "source": [
    "ngf = 16\n",
    "input_nc = 1\n",
    "output_nc = 1\n",
    "n_blocks_gen = 9\n",
    "\n",
    "def softMaxAxis1(x):\n",
    "    return softmax(x,axis=1)\n",
    "\n",
    "# started from: https://blog.sicara.com/keras-generative-adversarial-networks-image-deblurring-45e3ab6977b5\n",
    "def Model_1(input_shape):\n",
    "    \"\"\"Build generator architecture.\"\"\"\n",
    "    # Current version : ResNet block\n",
    "    X_input = Input(input_shape)\n",
    "    \n",
    "    # X = ZeroPadding2D((0, 3))(X_input) # allows 'valid' in conv0 to keep length and collapse one-hot\n",
    "\n",
    "    X = Conv2D(128, (4, 7), strides = (1, 1), padding = 'same', name = 'conv0')(X_input)\n",
    "    X = BatchNormalization(axis = 3, name = 'bn0')(X)\n",
    "    X = Activation('relu')(X)\n",
    "    \n",
    "#     X = Conv2D(64, (1, 7), strides = (1, 1), padding = 'same', name = 'conv1')(X)\n",
    "#     X = BatchNormalization(axis = 3, name = 'bn1')(X)\n",
    "#     X = Activation('relu')(X)\n",
    "    \n",
    "    X = Conv2D(64, (1, 7), strides = (1, 1), padding = 'same', name = 'conv2')(X)\n",
    "    X = BatchNormalization(axis = 3, name = 'bn2')(X)\n",
    "    X = Activation('relu')(X)\n",
    "    \n",
    "    X = Dropout(0.3, name = 'dropout')(X)\n",
    "   \n",
    "    X = Conv2D(32, (1, 7), strides = (1, 1), padding = 'same', name = 'conv3')(X)\n",
    "    X = BatchNormalization(axis = 3, name = 'bn3')(X)\n",
    "    X = Activation('relu')(X)\n",
    "    \n",
    "    X = Conv2D(1, (1, 1), strides = (1, 1), padding = 'same', name = 'conv4')(X)\n",
    "    X = BatchNormalization(axis = 3, name = 'bn4')(X)\n",
    "    X = Dense(1, activation = softMaxAxis1)(X)\n",
    "    \n",
    "    model = Model(inputs=X_input, outputs=X, name='Model_2')\n",
    "    return model"
   ]
  },
  {
   "cell_type": "code",
   "execution_count": 56,
   "metadata": {},
   "outputs": [
    {
     "name": "stdout",
     "output_type": "stream",
     "text": [
      "_________________________________________________________________\n",
      "Layer (type)                 Output Shape              Param #   \n",
      "=================================================================\n",
      "input_10 (InputLayer)        (None, 5, 308, 1)         0         \n",
      "_________________________________________________________________\n",
      "conv0 (Conv2D)               (None, 5, 308, 128)       3712      \n",
      "_________________________________________________________________\n",
      "bn0 (BatchNormalization)     (None, 5, 308, 128)       512       \n",
      "_________________________________________________________________\n",
      "activation_33 (Activation)   (None, 5, 308, 128)       0         \n",
      "_________________________________________________________________\n",
      "conv2 (Conv2D)               (None, 5, 308, 64)        57408     \n",
      "_________________________________________________________________\n",
      "bn2 (BatchNormalization)     (None, 5, 308, 64)        256       \n",
      "_________________________________________________________________\n",
      "activation_34 (Activation)   (None, 5, 308, 64)        0         \n",
      "_________________________________________________________________\n",
      "dropout (Dropout)            (None, 5, 308, 64)        0         \n",
      "_________________________________________________________________\n",
      "conv3 (Conv2D)               (None, 5, 308, 32)        14368     \n",
      "_________________________________________________________________\n",
      "bn3 (BatchNormalization)     (None, 5, 308, 32)        128       \n",
      "_________________________________________________________________\n",
      "activation_35 (Activation)   (None, 5, 308, 32)        0         \n",
      "_________________________________________________________________\n",
      "conv4 (Conv2D)               (None, 5, 308, 1)         33        \n",
      "_________________________________________________________________\n",
      "bn4 (BatchNormalization)     (None, 5, 308, 1)         4         \n",
      "_________________________________________________________________\n",
      "dense_5 (Dense)              (None, 5, 308, 1)         2         \n",
      "=================================================================\n",
      "Total params: 76,423\n",
      "Trainable params: 75,973\n",
      "Non-trainable params: 450\n",
      "_________________________________________________________________\n",
      "None\n",
      "Done!\n"
     ]
    }
   ],
   "source": [
    "myModel = Model_1((5,max_length,1))\n",
    "print(myModel.summary())\n",
    "print('Done!')"
   ]
  },
  {
   "cell_type": "code",
   "execution_count": 57,
   "metadata": {},
   "outputs": [
    {
     "name": "stdout",
     "output_type": "stream",
     "text": [
      "Done!\n"
     ]
    }
   ],
   "source": [
    "myModel.compile(optimizer=\"Adam\", loss=\"mean_squared_error\", metrics = [\"accuracy\"])\n",
    "print('Done!')"
   ]
  },
  {
   "cell_type": "code",
   "execution_count": 47,
   "metadata": {},
   "outputs": [
    {
     "name": "stdout",
     "output_type": "stream",
     "text": [
      "Baseline accuracy if predicting output = input is 0.9923885322908692\n"
     ]
    }
   ],
   "source": [
    "# Understand baseline accuracy of if model output its own input\n",
    "diffs = np.absolute(X_test-Y_test);\n",
    "err = np.sum(diffs)/np.ma.size(X_test);\n",
    "print(\"Baseline accuracy if predicting output = input is \" + str(1-err))"
   ]
  },
  {
   "cell_type": "code",
   "execution_count": null,
   "metadata": {},
   "outputs": [
    {
     "name": "stdout",
     "output_type": "stream",
     "text": [
      "Train on 55436 samples, validate on 560 samples\n",
      "Epoch 1/3\n",
      " 1050/55436 [..............................] - ETA: 33:29 - loss: 0.0228 - acc: 0.9837"
     ]
    }
   ],
   "source": [
    "history = myModel.fit(x = X_train, y = Y_train, epochs = 3, validation_split = 0.01, batch_size = 30, verbose = 1)\n",
    "\n",
    "loss_and_acc = myModel.evaluate(X_test, Y_test)\n",
    "print(loss_and_acc)\n",
    "\n",
    "currtime = datetime.datetime.now()\n",
    "fname = \"./convWeights/\" + currtime.strftime(\"%m%d-%H%M\") + \"_5hot.hdf5\"\n",
    "print(fname)\n",
    "myModel.save_weights(fname)"
   ]
  },
  {
   "cell_type": "code",
   "execution_count": 30,
   "metadata": {},
   "outputs": [
    {
     "data": {
      "image/png": "[encoded data removed]",
      "text/plain": [
       "<Figure size 432x288 with 1 Axes>"
      ]
     },
     "metadata": {},
     "output_type": "display_data"
    }
   ],
   "source": [
    "plt.plot(history.history['acc'])\n",
    "plt.plot(history.history['val_acc'])\n",
    "plt.title('model accuracy')\n",
    "plt.ylabel('accuracy')\n",
    "plt.xlabel('epoch')\n",
    "plt.legend(['train', 'test'], loc='upper left')\n",
    "plt.show()"
   ]
  },
  {
   "cell_type": "code",
   "execution_count": 58,
   "metadata": {},
   "outputs": [],
   "source": [
    "preds = myModel.predict(x = X_test)"
   ]
  },
  {
   "cell_type": "code",
   "execution_count": 63,
   "metadata": {},
   "outputs": [
    {
     "name": "stdout",
     "output_type": "stream",
     "text": [
      "(2867, 5, 308, 1)\n",
      "Sample number 5\n",
      "The noise was at nucleotide number 40\n",
      "The predictions from 38 to 42 are: \n",
      "[[0.206 0.202 0.208 0.196 0.2  ]\n",
      " [0.199 0.197 0.199 0.194 0.204]\n",
      " [0.197 0.207 0.196 0.202 0.202]\n",
      " [0.195 0.194 0.197 0.207 0.194]\n",
      " [0.202 0.2   0.199 0.201 0.2  ]]\n",
      "The true denoised nucleotides from 38 to 42 are: \n",
      "[[1. 1. 0. 0. 0.]\n",
      " [0. 0. 0. 1. 0.]\n",
      " [0. 0. 1. 0. 1.]\n",
      " [0. 0. 0. 0. 0.]\n",
      " [0. 0. 0. 0. 0.]]\n",
      "The input nucleotides from 38 to 42 were: \n",
      "[[1. 1. 1. 0. 0.]\n",
      " [0. 0. 0. 1. 0.]\n",
      " [0. 0. 0. 0. 1.]\n",
      " [0. 0. 0. 0. 0.]\n",
      " [0. 0. 0. 0. 0.]]\n"
     ]
    }
   ],
   "source": [
    "# Change n to view the predictions, true sequence, and input sequence for a given sample\n",
    "n = 4\n",
    "print(preds.shape)\n",
    "print(\"Sample number \" + str(n+1))\n",
    "samp_n_pred = preds[n,0:5,:,0]\n",
    "samp_n_in = X_test[n,0:5,:,0]\n",
    "samp_n_true = Y_test[n,0:5,:,0]\n",
    "\n",
    "np.set_printoptions(precision=3, suppress=True)\n",
    "noise = np.argmax(np.sum(np.square(samp_n_in - samp_n_true),axis=0))\n",
    "print(\"The noise was at nucleotide number \" + str(noise))\n",
    "print(\"The predictions from \" + str(noise-2) + \" to \" + str(noise+2) + \" are: \")\n",
    "print(preds[n,0:5,noise-2:noise+3,0])\n",
    "print(\"The true denoised nucleotides from \" + str(noise-2) + \" to \" + str(noise+2) + \" are: \")\n",
    "print(Y_test[n,0:5,noise-2:noise+3,0])\n",
    "print(\"The input nucleotides from \" + str(noise-2) + \" to \" + str(noise+2) + \" were: \")\n",
    "print(X_test[n,0:5,noise-2:noise+3,0])"
   ]
  },
  {
   "cell_type": "code",
   "execution_count": null,
   "metadata": {},
   "outputs": [],
   "source": []
  },
  {
   "cell_type": "code",
   "execution_count": 11,
   "metadata": {},
   "outputs": [],
   "source": [
    "myModel.load_weights(\"./convWeights/0520-1212.hdf5\")"
   ]
  },
  {
   "cell_type": "code",
   "execution_count": 215,
   "metadata": {},
   "outputs": [],
   "source": []
  },
  {
   "cell_type": "code",
   "execution_count": null,
   "metadata": {},
   "outputs": [],
   "source": []
  }
 ],
 "metadata": {
  "kernelspec": {
   "display_name": "Python 3",
   "language": "python",
   "name": "python3"
  },
  "language_info": {
   "codemirror_mode": {
    "name": "ipython",
    "version": 3
   },
   "file_extension": ".py",
   "mimetype": "text/x-python",
   "name": "python",
   "nbconvert_exporter": "python",
   "pygments_lexer": "ipython3",
   "version": "3.6.0"
  }
 },
 "nbformat": 4,
 "nbformat_minor": 2
}
