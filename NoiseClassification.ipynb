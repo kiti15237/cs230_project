{
 "cells": [
  {
   "cell_type": "code",
   "execution_count": 1,
   "metadata": {},
   "outputs": [
    {
     "name": "stderr",
     "output_type": "stream",
     "text": [
      "C:\\Users\\ctata\\Miniconda3\\envs\\tensorflow\\lib\\site-packages\\h5py\\__init__.py:36: FutureWarning: Conversion of the second argument of issubdtype from `float` to `np.floating` is deprecated. In future, it will be treated as `np.float64 == np.dtype(float).type`.\n",
      "  from ._conv import register_converters as _register_converters\n",
      "Using TensorFlow backend.\n"
     ]
    },
    {
     "name": "stdout",
     "output_type": "stream",
     "text": [
      "import loads done\n"
     ]
    }
   ],
   "source": [
    "#imports\n",
    "import numpy as np\n",
    "import os\n",
    "import tempfile\n",
    "import keras\n",
    "from keras import backend as K\n",
    "from keras import layers\n",
    "from keras.models import Model\n",
    "from keras.layers import Input\n",
    "from keras.layers import LSTM\n",
    "from keras.layers import Dense\n",
    "from keras.layers import Bidirectional\n",
    "from keras.layers import Dropout\n",
    "from keras.layers import Activation\n",
    "from keras.layers import BatchNormalization\n",
    "from keras.layers import Conv2D, Add, Reshape\n",
    "from keras.models import Sequential\n",
    "from keras.layers import Conv1D, Dense, MaxPooling1D, Flatten\n",
    "from keras.utils.vis_utils import plot_model\n",
    "from keras.callbacks import History \n",
    "from keras.models import load_model\n",
    "from keras.layers import Embedding\n",
    "from keras.layers import Flatten\n",
    "from keras.layers import Reshape\n",
    "from keras.layers import TimeDistributed\n",
    "from keras.callbacks import ModelCheckpoint\n",
    "from keras.layers import Concatenate\n",
    "import tensorflow as tf\n",
    "import matplotlib.pyplot as plt\n",
    "import pickle\n",
    "import random\n",
    "import datetime\n",
    "from termcolor import colored\n",
    "\n",
    "from keras.activations import softmax \n",
    "print(\"import loads done\")"
   ]
  },
  {
   "cell_type": "code",
   "execution_count": 6,
   "metadata": {},
   "outputs": [],
   "source": [
    "def model_1dconv(window_size, filter_len, n_inp_series=1, n_output=1, n_filter=4):\n",
    "    model= Sequential()\n",
    "    model.add(Conv1D(filters= n_filter, kernel_size= filter_len, activation=\"relu\", input_shape=(window_size, n_inp_series)))\n",
    "    model.add(MaxPooling1D())\n",
    "    model.add(Conv1D(filters=n_filter, kernel_size=filter_len, activation=\"relu\"))\n",
    "    model.add(MaxPooling1D())\n",
    "    model.add(Flatten())\n",
    "    model.add(Dense(n_output, activation=\"tanh\"))\n",
    "    \n",
    "    #model.compile(loss='categorical_crossentropy', optimizer='adam', metrics=['accuracy'])\n",
    "    model.compile(loss='mse', optimizer='adam', metrics=['mae'])\n",
    "    return model"
   ]
  },
  {
   "cell_type": "code",
   "execution_count": 7,
   "metadata": {},
   "outputs": [
    {
     "name": "stdout",
     "output_type": "stream",
     "text": [
      "_________________________________________________________________\n",
      "Layer (type)                 Output Shape              Param #   \n",
      "=================================================================\n",
      "conv1d_5 (Conv1D)            (None, 48, 4)             64        \n",
      "_________________________________________________________________\n",
      "max_pooling1d_5 (MaxPooling1 (None, 24, 4)             0         \n",
      "_________________________________________________________________\n",
      "conv1d_6 (Conv1D)            (None, 22, 4)             52        \n",
      "_________________________________________________________________\n",
      "max_pooling1d_6 (MaxPooling1 (None, 11, 4)             0         \n",
      "_________________________________________________________________\n",
      "flatten_3 (Flatten)          (None, 44)                0         \n",
      "_________________________________________________________________\n",
      "dense_3 (Dense)              (None, 5)                 225       \n",
      "=================================================================\n",
      "Total params: 341\n",
      "Trainable params: 341\n",
      "Non-trainable params: 0\n",
      "_________________________________________________________________\n"
     ]
    }
   ],
   "source": [
    "#run the cell if want to progress using 1d conv model\n",
    "model= model_1dconv(window_size=50, filter_len= 3, n_inp_series=5, n_output=5, n_filter=4)\n",
    "model.summary()"
   ]
  },
  {
   "cell_type": "code",
   "execution_count": 8,
   "metadata": {},
   "outputs": [],
   "source": [
    "datapath= \"blast_tab_1hit.out\"\n",
    "\n",
    "file= open(datapath, 'r')\n",
    "\n",
    "train_entries=[]\n",
    "val_entries= []\n",
    "test_entries=[]\n",
    "max_length_in =0\n",
    "max_length_out=0\n",
    "ynoise_train=[]\n",
    "ynoise_val=[]\n",
    "ynoise_test=[]\n",
    "\n",
    "np.random.seed(0)\n",
    "\n",
    "for ln in file:\n",
    "    toks=ln.split('\\t')\n",
    "    rand_num= np.random.random()\n",
    "    \n",
    "    if(toks[2] != toks[3]):\n",
    "        max_length_in= max(max_length_in, len(toks[2]))\n",
    "        max_length_out= max(max_length_out, len(toks[3]))\n",
    "        \n",
    "        if rand_num< 0.95:\n",
    "            train_entries.append([toks[2], toks[3]])\n",
    "            ynoise_train.append([1])\n",
    "        elif rand_num < 0.975:\n",
    "            test_entries.append([toks[2], toks[3]])\n",
    "            ynoise_test.append([1])\n",
    "        else:\n",
    "            val_entries.append([toks[2], toks[3]])\n",
    "            ynoise_val.append([1])\n",
    "    \n",
    "    if(toks[2]== toks[3]):\n",
    "        if rand_num > 0.975:\n",
    "            val_entries.append([toks[2], toks[3]])\n",
    "            ynoise_val.append([-1])\n",
    "        elif rand_num > 0.95:\n",
    "            test_entries.append([toks[2], toks[3]])\n",
    "            ynoise_test.append([-1])\n",
    "        elif rand_num > 0.9:\n",
    "            train_entries.append([toks[2], toks[3]])\n",
    "            ynoise_train.append([-1])\n",
    "            \n",
    "file.close()\n",
    "\n",
    "label_train_noise= np.array(ynoise_train)\n",
    "label_test_noise= np.array(ynoise_test)\n",
    "label_val_noise= np.array(ynoise_val)\n",
    "\n",
    "one_hot_input = {'A': 0, 'T': 1, 'C': 2, 'G': 3, '-': 4}\n",
    "one_hot_output = {'A': 0, 'T': 1, 'C': 2, 'G': 3}\n",
    "            \n"
   ]
  },
  {
   "cell_type": "code",
   "execution_count": 11,
   "metadata": {},
   "outputs": [
    {
     "name": "stdout",
     "output_type": "stream",
     "text": [
      "labels shape\n",
      "y_train:  (77510, 1)\n",
      "y_test:  (12107, 1)\n",
      "y_val:  (12269, 1)\n",
      "[[ 1]\n",
      " [ 1]\n",
      " [ 1]\n",
      " [-1]\n",
      " [ 1]\n",
      " [ 1]\n",
      " [-1]\n",
      " [-1]\n",
      " [ 1]\n",
      " [ 1]]\n"
     ]
    }
   ],
   "source": [
    "#print shapes:\n",
    "print(\"labels shape\")\n",
    "print(\"y_train: \", label_train_noise.shape)\n",
    "print(\"y_test: \", label_test_noise.shape)\n",
    "print(\"y_val: \", label_val_noise.shape)\n",
    "print(label_train_noise[0:10])"
   ]
  },
  {
   "cell_type": "code",
   "execution_count": 18,
   "metadata": {},
   "outputs": [
    {
     "name": "stdout",
     "output_type": "stream",
     "text": [
      "visualize labels for noisy vs non-noisy\n",
      "y_train\n",
      "[[ 1]\n",
      " [ 1]\n",
      " [ 1]\n",
      " [-1]\n",
      " [ 1]\n",
      " [ 1]\n",
      " [-1]\n",
      " [-1]\n",
      " [ 1]\n",
      " [ 1]\n",
      " [ 1]\n",
      " [ 1]\n",
      " [ 1]\n",
      " [ 1]\n",
      " [ 1]\n",
      " [ 1]\n",
      " [ 1]\n",
      " [-1]\n",
      " [ 1]\n",
      " [ 1]\n",
      " [ 1]\n",
      " [ 1]\n",
      " [ 1]\n",
      " [ 1]\n",
      " [ 1]\n",
      " [ 1]\n",
      " [ 1]\n",
      " [-1]\n",
      " [ 1]\n",
      " [ 1]\n",
      " [ 1]\n",
      " [ 1]\n",
      " [ 1]\n",
      " [-1]\n",
      " [ 1]\n",
      " [ 1]\n",
      " [ 1]\n",
      " [-1]\n",
      " [ 1]\n",
      " [ 1]\n",
      " [ 1]\n",
      " [ 1]\n",
      " [-1]\n",
      " [ 1]\n",
      " [ 1]\n",
      " [ 1]\n",
      " [ 1]\n",
      " [-1]\n",
      " [ 1]\n",
      " [-1]\n",
      " [ 1]\n",
      " [-1]\n",
      " [-1]\n",
      " [ 1]\n",
      " [ 1]\n",
      " [-1]\n",
      " [ 1]\n",
      " [ 1]\n",
      " [ 1]\n",
      " [ 1]\n",
      " [ 1]\n",
      " [ 1]\n",
      " [ 1]\n",
      " [ 1]\n",
      " [-1]\n",
      " [-1]\n",
      " [ 1]\n",
      " [ 1]\n",
      " [-1]\n",
      " [ 1]\n",
      " [ 1]\n",
      " [ 1]\n",
      " [-1]\n",
      " [-1]\n",
      " [ 1]\n",
      " [ 1]\n",
      " [ 1]\n",
      " [ 1]\n",
      " [-1]\n",
      " [ 1]\n",
      " [-1]\n",
      " [-1]\n",
      " [-1]\n",
      " [ 1]\n",
      " [ 1]\n",
      " [ 1]\n",
      " [ 1]\n",
      " [ 1]\n",
      " [ 1]\n",
      " [ 1]\n",
      " [-1]\n",
      " [ 1]\n",
      " [ 1]\n",
      " [ 1]\n",
      " [ 1]\n",
      " [ 1]\n",
      " [ 1]\n",
      " [ 1]\n",
      " [ 1]\n",
      " [ 1]]\n",
      "y_val\n",
      "[[-1]\n",
      " [-1]\n",
      " [-1]\n",
      " [-1]\n",
      " [-1]\n",
      " [-1]\n",
      " [-1]\n",
      " [-1]\n",
      " [ 1]\n",
      " [-1]\n",
      " [-1]\n",
      " [ 1]\n",
      " [-1]\n",
      " [-1]\n",
      " [-1]\n",
      " [-1]\n",
      " [-1]\n",
      " [-1]\n",
      " [-1]\n",
      " [-1]\n",
      " [-1]\n",
      " [-1]\n",
      " [-1]\n",
      " [-1]\n",
      " [-1]\n",
      " [-1]\n",
      " [-1]\n",
      " [-1]\n",
      " [-1]\n",
      " [-1]\n",
      " [-1]\n",
      " [-1]\n",
      " [-1]\n",
      " [-1]\n",
      " [-1]\n",
      " [-1]\n",
      " [-1]\n",
      " [-1]\n",
      " [-1]\n",
      " [-1]\n",
      " [-1]\n",
      " [-1]\n",
      " [-1]\n",
      " [-1]\n",
      " [-1]\n",
      " [ 1]\n",
      " [-1]\n",
      " [-1]\n",
      " [-1]\n",
      " [-1]\n",
      " [-1]\n",
      " [ 1]\n",
      " [-1]\n",
      " [-1]\n",
      " [-1]\n",
      " [-1]\n",
      " [-1]\n",
      " [-1]\n",
      " [-1]\n",
      " [-1]\n",
      " [-1]\n",
      " [-1]\n",
      " [-1]\n",
      " [ 1]\n",
      " [-1]\n",
      " [ 1]\n",
      " [-1]\n",
      " [-1]\n",
      " [-1]\n",
      " [-1]\n",
      " [-1]\n",
      " [-1]\n",
      " [-1]\n",
      " [ 1]\n",
      " [-1]\n",
      " [-1]\n",
      " [-1]\n",
      " [-1]\n",
      " [-1]\n",
      " [-1]\n",
      " [-1]\n",
      " [-1]\n",
      " [-1]\n",
      " [ 1]\n",
      " [-1]\n",
      " [-1]\n",
      " [-1]\n",
      " [-1]\n",
      " [-1]\n",
      " [-1]\n",
      " [-1]\n",
      " [-1]\n",
      " [-1]\n",
      " [-1]\n",
      " [-1]\n",
      " [-1]\n",
      " [-1]\n",
      " [-1]\n",
      " [-1]\n",
      " [ 1]]\n",
      "y_test\n",
      "[[-1]\n",
      " [-1]\n",
      " [-1]\n",
      " [-1]\n",
      " [-1]\n",
      " [-1]\n",
      " [-1]\n",
      " [-1]\n",
      " [-1]\n",
      " [-1]\n",
      " [-1]\n",
      " [-1]\n",
      " [-1]\n",
      " [-1]\n",
      " [-1]\n",
      " [-1]\n",
      " [-1]\n",
      " [-1]\n",
      " [-1]\n",
      " [-1]\n",
      " [-1]\n",
      " [-1]\n",
      " [-1]\n",
      " [-1]\n",
      " [-1]\n",
      " [-1]\n",
      " [-1]\n",
      " [-1]\n",
      " [-1]\n",
      " [-1]\n",
      " [-1]\n",
      " [-1]\n",
      " [-1]\n",
      " [ 1]\n",
      " [-1]\n",
      " [-1]\n",
      " [-1]\n",
      " [-1]\n",
      " [ 1]\n",
      " [-1]\n",
      " [-1]\n",
      " [-1]\n",
      " [ 1]\n",
      " [-1]\n",
      " [-1]\n",
      " [ 1]\n",
      " [-1]\n",
      " [-1]\n",
      " [-1]\n",
      " [-1]\n",
      " [ 1]\n",
      " [-1]\n",
      " [ 1]\n",
      " [-1]\n",
      " [-1]\n",
      " [-1]\n",
      " [-1]\n",
      " [-1]\n",
      " [-1]\n",
      " [-1]\n",
      " [-1]\n",
      " [-1]\n",
      " [-1]\n",
      " [-1]\n",
      " [-1]\n",
      " [-1]\n",
      " [-1]\n",
      " [-1]\n",
      " [-1]\n",
      " [-1]\n",
      " [-1]\n",
      " [ 1]\n",
      " [-1]\n",
      " [ 1]\n",
      " [ 1]\n",
      " [-1]\n",
      " [-1]\n",
      " [ 1]\n",
      " [-1]\n",
      " [-1]\n",
      " [-1]\n",
      " [-1]\n",
      " [-1]\n",
      " [-1]\n",
      " [-1]\n",
      " [-1]\n",
      " [-1]\n",
      " [ 1]\n",
      " [-1]\n",
      " [-1]\n",
      " [-1]\n",
      " [-1]\n",
      " [-1]\n",
      " [-1]\n",
      " [-1]\n",
      " [-1]\n",
      " [-1]\n",
      " [-1]\n",
      " [-1]\n",
      " [ 1]]\n"
     ]
    }
   ],
   "source": [
    "#visualize labels\n",
    "num_vis= 100\n",
    "print(\"visualize labels for noisy vs non-noisy\")\n",
    "print(\"y_train\")\n",
    "print(label_train_noise[0:num_vis])\n",
    "print(\"y_val\")\n",
    "print(label_val_noise[0:num_vis])\n",
    "print(\"y_test\")\n",
    "print(label_test_noise[0:num_vis])"
   ]
  },
  {
   "cell_type": "code",
   "execution_count": 57,
   "metadata": {},
   "outputs": [
    {
     "name": "stdout",
     "output_type": "stream",
     "text": [
      "data entries:\n",
      "train\n",
      "['ACCGACGGCCCGAGTGGTGGCCACTTTTATTGGGCCTAAAGCGTCCGTAGCCGGTCCAGTAAGTCCTTGTTTAAATCCTGCGGCTTAACCGCAGGACTGGCAGGGATACTGCTGGACTTGGGACCGGGAGAGGACAAGGGTACTTCAGGGGTAGCGGTGAAATGTGTTGATCCTTGAAGGACCACCTATGGCGAAGGCACTTGTCTGGAACGGGTCCGACGGTGAGGGACGAAGGCCAGGGGAGCAAACCG', 'ACCGACGGCCCGAGTGGTGGCCACTTTTATTGGGCCTAAAGCGTCCGTAGCCGGTCCAGTAAGTCCTTGTTTAAATCCTGCGGCTTAACCGCAGGACTGGCAGGGATACTGCTGGACTTGGGACCGGGAGAGGACAAGGGTACTTCAGGGGTAGCGGTGAAATGTGTTGATCCTTGAAGGACCACCTATGGCGAAGGCACTTGTCTGGAACGGGTCCGACGGTGAGGGACGAAAGCCAGGGGCGCGAACCG']\n",
      "test\n",
      "['ACAGGGGTGGCAAGCGTTGTCCGGATTTACTGGGTGTAAAGGGTGCGCAGGCGGATTCATAAGTCGGGGGTTAAATCCATGTGCTTAACACATGCAAGGCTTCCGATACTGTGAGTCTAGAGTCTCGAAGAGGAAGATGGAATTTCCGGTGTAACGGTGGAATGTGTAGATATCGGAAAGAACACCAGTGGCGAAGGCAGTCTTCTGGTCGAGAACTGACGCTCAGGCACGAAAGCGTGGGGAGCAAACAG', 'ACAGGGGTGGCAAGCGTTGTCCGGATTTACTGGGTGTAAAGGGTGCGCAGGCGGATTCATAAGTCGGGGGTTAAATCCATGTGCTTAACACATGCAAGGCTTCCGATACTGTGAGTCTAGAGTCTCGAAGAGGAAGATGGAATTTCCGGTGTAACGGTGGAATGTGTAGATATCGGAAAGAACACCAGTGGCGAAGGCAGTCTTCTGGTCGAGAACTGACGCTCAGGCACGAAAGCGTGGGGAGCAAACAG']\n",
      "val\n",
      "['TAGGGTGCAAGCGTTAATCGGAATTACTGGGCGTAAAGCGTGCGCAGGCGGTTGTGTAAGACAGATGTGAAATCCCCGGGCTCAACCTGGGAACTGCATTTGTGACTGCACAGCTAGAGTACGGTAGAGGGGGATGGAATTCCGCGTGTAGCAGTGAAATGCGTAGATATGCGGAGGAACACCGATGGCGAAGGCAATCCCCTGGACCTGTACTGACGCTCATGCACGAAAGCGTGGGGAGCAAACAG', 'TAGGGTGCAAGCGTTAATCGGAATTACTGGGCGTAAAGCGTGCGCAGGCGGTTGTGTAAGACAGATGTGAAATCCCCGGGCTCAACCTGGGAACTGCATTTGTGACTGCACAGCTAGAGTACGGTAGAGGGGGATGGAATTCCGCGTGTAGCAGTGAAATGCGTAGATATGCGGAGGAACACCGATGGCGAAGGCAATCCCCTGGACCTGTACTGACGCTCATGCACGAAAGCGTGGGGAGCAAACAG']\n"
     ]
    }
   ],
   "source": [
    "#visualize data entries\n",
    "n_peek=10\n",
    "print(\"data entries:\")\n",
    "print(\"train\")\n",
    "print(train_entries[n_peek])\n",
    "\n",
    "print(\"test\")\n",
    "print(test_entries[n_peek])\n",
    "\n",
    "print(\"val\")\n",
    "print(val_entries[n_peek])"
   ]
  },
  {
   "cell_type": "code",
   "execution_count": 100,
   "metadata": {},
   "outputs": [
    {
     "name": "stdout",
     "output_type": "stream",
     "text": [
      "max len inp: 308\n",
      "max len out:  308\n"
     ]
    }
   ],
   "source": [
    "#length of sequences\n",
    "print(\"max len inp:\", max_length_in)\n",
    "print(\"max len out: \", max_length_out)"
   ]
  },
  {
   "cell_type": "code",
   "execution_count": 12,
   "metadata": {},
   "outputs": [
    {
     "name": "stdout",
     "output_type": "stream",
     "text": [
      "shapes\n",
      "(77510, 1)\n",
      "(12107, 1)\n",
      "(12269, 1)\n"
     ]
    }
   ],
   "source": [
    "labels_train=np.array(label_train_noise)\n",
    "labels_val= np.array(label_val_noise)\n",
    "labels_test= np.array(label_test_noise)\n",
    "\n",
    "print(\"shapes\")\n",
    "print(labels_train.shape)\n",
    "print(labels_test.shape)\n",
    "print(labels_val.shape)"
   ]
  },
  {
   "cell_type": "code",
   "execution_count": 13,
   "metadata": {},
   "outputs": [],
   "source": [
    "#The next few cells used for data preparation\n",
    "#for train, val and test data to send inside model\n",
    "\n",
    "input_seqs= [entry[0] for entry in train_entries]\n",
    "output_seqs= [entry[1] for entry in train_entries]\n",
    "val_input_seqs= [entry[0] for entry in val_entries]\n",
    "val_output_seqs= [entry[1] for entry in val_entries]\n",
    "test_input_seqs= [entry[0] for entry in test_entries]\n",
    "test_output_seqs= [entry[1] for entry in test_entries]"
   ]
  },
  {
   "cell_type": "code",
   "execution_count": 103,
   "metadata": {},
   "outputs": [
    {
     "name": "stdout",
     "output_type": "stream",
     "text": [
      "77510\n",
      "12269\n",
      "12107\n"
     ]
    }
   ],
   "source": [
    "print(len(input_seqs))\n",
    "print(len(val_input_seqs))\n",
    "print(len(test_input_seqs))"
   ]
  },
  {
   "cell_type": "code",
   "execution_count": 14,
   "metadata": {},
   "outputs": [],
   "source": [
    "#train val and test data\n",
    "X_train= np.zeros(\n",
    "    (len(input_seqs), len(one_hot_input), max_length_in, 1),\n",
    "    dtype= 'float32')\n",
    "#print(X_train.shape)\n",
    "for i, (input_seqs, output_seqs) in enumerate(zip(input_seqs, output_seqs)):\n",
    "    for t, char in enumerate(input_seqs):\n",
    "        X_train[i,one_hot_input[char],t,0]=1"
   ]
  },
  {
   "cell_type": "code",
   "execution_count": 15,
   "metadata": {},
   "outputs": [
    {
     "name": "stdout",
     "output_type": "stream",
     "text": [
      "(77510, 5, 308, 1)\n"
     ]
    },
    {
     "ename": "NameError",
     "evalue": "name 'num_vis' is not defined",
     "output_type": "error",
     "traceback": [
      "\u001b[1;31m---------------------------------------------------------------------------\u001b[0m",
      "\u001b[1;31mNameError\u001b[0m                                 Traceback (most recent call last)",
      "\u001b[1;32m<ipython-input-15-12da8b305c52>\u001b[0m in \u001b[0;36m<module>\u001b[1;34m()\u001b[0m\n\u001b[0;32m      1\u001b[0m \u001b[1;31m#shape and data for X_train\u001b[0m\u001b[1;33m\u001b[0m\u001b[1;33m\u001b[0m\u001b[0m\n\u001b[0;32m      2\u001b[0m \u001b[0mprint\u001b[0m\u001b[1;33m(\u001b[0m\u001b[0mX_train\u001b[0m\u001b[1;33m.\u001b[0m\u001b[0mshape\u001b[0m\u001b[1;33m)\u001b[0m\u001b[1;33m\u001b[0m\u001b[0m\n\u001b[1;32m----> 3\u001b[1;33m \u001b[0mprint\u001b[0m\u001b[1;33m(\u001b[0m\u001b[0mX_train\u001b[0m\u001b[1;33m[\u001b[0m\u001b[1;36m0\u001b[0m\u001b[1;33m:\u001b[0m\u001b[0mnum_vis\u001b[0m\u001b[1;33m,\u001b[0m \u001b[1;33m:\u001b[0m\u001b[1;33m,\u001b[0m\u001b[1;33m:\u001b[0m\u001b[1;33m,\u001b[0m\u001b[1;36m0\u001b[0m\u001b[1;33m]\u001b[0m\u001b[1;33m)\u001b[0m\u001b[1;33m\u001b[0m\u001b[0m\n\u001b[0m",
      "\u001b[1;31mNameError\u001b[0m: name 'num_vis' is not defined"
     ]
    }
   ],
   "source": [
    "#shape and data for X_train\n",
    "print(X_train.shape)\n",
    "print(X_train[0:num_vis, :,:,0])"
   ]
  },
  {
   "cell_type": "code",
   "execution_count": 16,
   "metadata": {},
   "outputs": [],
   "source": [
    "#val data train\n",
    "X_val= np.zeros(\n",
    "    (len(val_input_seqs), len(one_hot_input), max_length_in, 1),\n",
    "    dtype= 'float32')\n",
    "#print(X_train.shape)\n",
    "for i, (val_input_seqs, val_output_seqs) in enumerate(zip(val_input_seqs, val_output_seqs)):\n",
    "    for t, char in enumerate(val_input_seqs):\n",
    "        X_val[i,one_hot_input[char],t,0]=1"
   ]
  },
  {
   "cell_type": "code",
   "execution_count": 107,
   "metadata": {},
   "outputs": [
    {
     "name": "stdout",
     "output_type": "stream",
     "text": [
      "(12269, 5, 308, 1)\n",
      "[[[1. 0. 1. ... 0. 0. 0.]\n",
      "  [0. 0. 0. ... 0. 0. 0.]\n",
      "  [0. 1. 0. ... 0. 0. 0.]\n",
      "  [0. 0. 0. ... 0. 0. 0.]\n",
      "  [0. 0. 0. ... 0. 0. 0.]]\n",
      "\n",
      " [[1. 0. 0. ... 0. 0. 0.]\n",
      "  [0. 0. 0. ... 0. 0. 0.]\n",
      "  [0. 1. 0. ... 0. 0. 0.]\n",
      "  [0. 0. 1. ... 0. 0. 0.]\n",
      "  [0. 0. 0. ... 0. 0. 0.]]\n",
      "\n",
      " [[1. 0. 0. ... 0. 0. 0.]\n",
      "  [0. 0. 0. ... 0. 0. 0.]\n",
      "  [0. 1. 0. ... 0. 0. 0.]\n",
      "  [0. 0. 1. ... 0. 0. 0.]\n",
      "  [0. 0. 0. ... 0. 0. 0.]]\n",
      "\n",
      " ...\n",
      "\n",
      " [[1. 0. 0. ... 0. 0. 0.]\n",
      "  [0. 0. 0. ... 0. 0. 0.]\n",
      "  [0. 1. 0. ... 0. 0. 0.]\n",
      "  [0. 0. 1. ... 0. 0. 0.]\n",
      "  [0. 0. 0. ... 0. 0. 0.]]\n",
      "\n",
      " [[1. 0. 0. ... 0. 0. 0.]\n",
      "  [0. 0. 0. ... 0. 0. 0.]\n",
      "  [0. 1. 0. ... 0. 0. 0.]\n",
      "  [0. 0. 1. ... 0. 0. 0.]\n",
      "  [0. 0. 0. ... 0. 0. 0.]]\n",
      "\n",
      " [[1. 0. 0. ... 0. 0. 0.]\n",
      "  [0. 0. 0. ... 0. 0. 0.]\n",
      "  [0. 1. 0. ... 0. 0. 0.]\n",
      "  [0. 0. 1. ... 0. 0. 0.]\n",
      "  [0. 0. 0. ... 0. 0. 0.]]]\n"
     ]
    }
   ],
   "source": [
    "#shape and data for X_val\n",
    "print(X_val.shape)\n",
    "print(X_val[0:num_vis, :,:,0])"
   ]
  },
  {
   "cell_type": "code",
   "execution_count": 17,
   "metadata": {},
   "outputs": [],
   "source": [
    "X_test= np.zeros(\n",
    "    (len(test_input_seqs), len(one_hot_input), max_length_in, 1),\n",
    "    dtype= 'float32')\n",
    "#print(X_train.shape)\n",
    "for i, (test_input_seqs, test_output_seqs) in enumerate(zip(test_input_seqs, test_output_seqs)):\n",
    "    for t, char in enumerate(test_input_seqs):\n",
    "        X_test[i,one_hot_input[char],t,0]=1"
   ]
  },
  {
   "cell_type": "code",
   "execution_count": 32,
   "metadata": {},
   "outputs": [
    {
     "name": "stdout",
     "output_type": "stream",
     "text": [
      "(12107, 5, 308, 1)\n"
     ]
    },
    {
     "data": {
      "text/plain": [
       "False"
      ]
     },
     "execution_count": 32,
     "metadata": {},
     "output_type": "execute_result"
    }
   ],
   "source": [
    "#shape and data for X_test\n",
    "print(X_test.shape)\n",
    "print(X_test[0:num_vis, :,:,0])\n"
   ]
  },
  {
   "cell_type": "code",
   "execution_count": null,
   "metadata": {},
   "outputs": [],
   "source": []
  },
  {
   "cell_type": "code",
   "execution_count": 78,
   "metadata": {},
   "outputs": [],
   "source": [
    "def softMaxAxis1(x):\n",
    "    return softmax(x,axis=1)\n",
    "\n",
    "\n",
    "def model_custom(input_shape):\n",
    "    X_input= Input(input_shape)\n",
    "    \n",
    "    X= Conv2D(128, (4,7), strides=(1,1), padding='same', name='conv0')(X_input)\n",
    "    X= BatchNormalization(axis=3, name='bn0')(X)\n",
    "    X= Activation('relu')(X)\n",
    "    \n",
    "    X= Conv2D(64, (1,7), strides=(1,1), padding='same', name='conv1')(X)\n",
    "    X= BatchNormalization(axis=3, name='bn1')(X)\n",
    "    X= Activation('relu')(X)\n",
    "    \n",
    "    X= Conv2D(64, (1,7), strides=(1,1), padding='same', name='conv2')(X)\n",
    "    X= BatchNormalization(axis=3, name='bn2')(X)\n",
    "    X= Activation('relu')(X)\n",
    "    \n",
    "    X= Dropout(0.3, name='dropout')(X)\n",
    "    \n",
    "    X= Conv2D(32, (1,7), strides=(1,1), padding='same', name='conv3')(X)\n",
    "    X= BatchNormalization(axis=3, name='bn3')(X)\n",
    "    X= Activation('relu')(X)\n",
    "    \n",
    "    X= Conv2D(1, (1,1), strides=(1,1), padding='same', name='conv4')(X)\n",
    "    X= BatchNormalization(axis=3, name='bn4')(X)\n",
    "    X= Flatten()(X)\n",
    "    X= Dense(2, activation='softmax')(X)\n",
    "    \n",
    "    model= Model(inputs=X_input, outputs=X, name='Model1')\n",
    "    return model\n",
    "    "
   ]
  },
  {
   "cell_type": "code",
   "execution_count": 79,
   "metadata": {},
   "outputs": [
    {
     "name": "stdout",
     "output_type": "stream",
     "text": [
      "_________________________________________________________________\n",
      "Layer (type)                 Output Shape              Param #   \n",
      "=================================================================\n",
      "input_5 (InputLayer)         (None, 5, 308, 1)         0         \n",
      "_________________________________________________________________\n",
      "conv0 (Conv2D)               (None, 5, 308, 128)       3712      \n",
      "_________________________________________________________________\n",
      "bn0 (BatchNormalization)     (None, 5, 308, 128)       512       \n",
      "_________________________________________________________________\n",
      "activation_17 (Activation)   (None, 5, 308, 128)       0         \n",
      "_________________________________________________________________\n",
      "conv1 (Conv2D)               (None, 5, 308, 64)        57408     \n",
      "_________________________________________________________________\n",
      "bn1 (BatchNormalization)     (None, 5, 308, 64)        256       \n",
      "_________________________________________________________________\n",
      "activation_18 (Activation)   (None, 5, 308, 64)        0         \n",
      "_________________________________________________________________\n",
      "conv2 (Conv2D)               (None, 5, 308, 64)        28736     \n",
      "_________________________________________________________________\n",
      "bn2 (BatchNormalization)     (None, 5, 308, 64)        256       \n",
      "_________________________________________________________________\n",
      "activation_19 (Activation)   (None, 5, 308, 64)        0         \n",
      "_________________________________________________________________\n",
      "dropout (Dropout)            (None, 5, 308, 64)        0         \n",
      "_________________________________________________________________\n",
      "conv3 (Conv2D)               (None, 5, 308, 32)        14368     \n",
      "_________________________________________________________________\n",
      "bn3 (BatchNormalization)     (None, 5, 308, 32)        128       \n",
      "_________________________________________________________________\n",
      "activation_20 (Activation)   (None, 5, 308, 32)        0         \n",
      "_________________________________________________________________\n",
      "conv4 (Conv2D)               (None, 5, 308, 1)         33        \n",
      "_________________________________________________________________\n",
      "bn4 (BatchNormalization)     (None, 5, 308, 1)         4         \n",
      "_________________________________________________________________\n",
      "flatten_8 (Flatten)          (None, 1540)              0         \n",
      "_________________________________________________________________\n",
      "dense_8 (Dense)              (None, 2)                 3082      \n",
      "=================================================================\n",
      "Total params: 108,495\n",
      "Trainable params: 107,917\n",
      "Non-trainable params: 578\n",
      "_________________________________________________________________\n"
     ]
    }
   ],
   "source": [
    "#need to pass in parameters from input data\n",
    "mymodel= model_custom((len(one_hot_input),max_length_in,1))\n",
    "mymodel.summary()"
   ]
  },
  {
   "cell_type": "code",
   "execution_count": 80,
   "metadata": {},
   "outputs": [
    {
     "name": "stdout",
     "output_type": "stream",
     "text": [
      "compilation done!\n"
     ]
    }
   ],
   "source": [
    "#compile model\n",
    "adam= keras.optimizers.Adam(lr= 0.0001, beta_1=0.9, beta_2=0.999, epsilon=None, decay=0.0, amsgrad=False)\n",
    "mymodel.compile(optimizer= adam, loss= \"binary_crossentropy\", metrics=[\"accuracy\"])\n",
    "print(\"compilation done!\")"
   ]
  },
  {
   "cell_type": "code",
   "execution_count": 67,
   "metadata": {},
   "outputs": [
    {
     "name": "stdout",
     "output_type": "stream",
     "text": [
      "[False False False  True False False  True  True False False]\n",
      "[[1. 0.]\n",
      " [1. 0.]\n",
      " [1. 0.]\n",
      " [0. 1.]\n",
      " [1. 0.]\n",
      " [1. 0.]\n",
      " [0. 1.]\n",
      " [0. 1.]\n",
      " [1. 0.]\n",
      " [1. 0.]]\n"
     ]
    }
   ],
   "source": [
    "labels_unlist_train = np.array([i for sublist in labels_train for i in sublist])\n",
    "labels_onehot_train = np.zeros((len(labels_unlist_train), 2))\n",
    "labels_onehot_train[labels_unlist_train == 1, 0] = 1\n",
    "labels_onehot_train[labels_unlist_train == -1, 1] = 1\n",
    "\n",
    "labels_unlist_val = np.array([i for sublist in labels_val for i in sublist])\n",
    "labels_onehot_val = np.zeros((len(labels_unlist_val), 2))\n",
    "labels_onehot_val[labels_unlist_val == 1, 0] = 1\n",
    "labels_onehot_val[labels_unlist_val == -1, 1] = 1\n",
    "\n",
    "\n",
    "print(labels_unlist[0:10] == -1)\n",
    "print(labels_tmp[0:10, :])"
   ]
  },
  {
   "cell_type": "code",
   "execution_count": 85,
   "metadata": {},
   "outputs": [
    {
     "name": "stdout",
     "output_type": "stream",
     "text": [
      "(77510, 5, 308, 1)\n",
      "(1000, 5, 308, 1)\n",
      "Train on 1000 samples, validate on 1000 samples\n",
      "Epoch 1/10\n",
      "1000/1000 [==============================] - 87s 87ms/step - loss: 0.7432 - acc: 0.6990 - val_loss: 1.1327 - val_acc: 0.4050\n",
      "\n",
      "Epoch 00001: val_acc improved from -inf to 0.40500, saving model to seqWeights/ConvNet-test-01-0.40.hdf5\n",
      "Epoch 2/10\n",
      "1000/1000 [==============================] - 82s 82ms/step - loss: 0.6980 - acc: 0.7090 - val_loss: 1.6643 - val_acc: 0.2810\n",
      "\n",
      "Epoch 00002: val_acc did not improve from 0.40500\n",
      "Epoch 3/10\n",
      "1000/1000 [==============================] - 103s 103ms/step - loss: 0.6351 - acc: 0.7080 - val_loss: 1.2254 - val_acc: 0.3190\n",
      "\n",
      "Epoch 00003: val_acc did not improve from 0.40500\n",
      "Epoch 4/10\n",
      "1000/1000 [==============================] - 87s 87ms/step - loss: 0.5689 - acc: 0.7290 - val_loss: 1.5405 - val_acc: 0.2040\n",
      "\n",
      "Epoch 00004: val_acc did not improve from 0.40500\n",
      "Epoch 5/10\n",
      "1000/1000 [==============================] - 90s 90ms/step - loss: 0.5176 - acc: 0.7570 - val_loss: 1.6450 - val_acc: 0.1970\n",
      "\n",
      "Epoch 00005: val_acc did not improve from 0.40500\n",
      "Epoch 6/10\n",
      "1000/1000 [==============================] - 88s 88ms/step - loss: 0.5427 - acc: 0.7400 - val_loss: 1.3571 - val_acc: 0.2550\n",
      "\n",
      "Epoch 00006: val_acc did not improve from 0.40500\n",
      "Epoch 7/10\n",
      "1000/1000 [==============================] - 90s 90ms/step - loss: 0.5348 - acc: 0.7440 - val_loss: 1.4397 - val_acc: 0.1910\n",
      "\n",
      "Epoch 00007: val_acc did not improve from 0.40500\n",
      "Epoch 8/10\n",
      "1000/1000 [==============================] - 92s 92ms/step - loss: 0.5185 - acc: 0.7490 - val_loss: 1.4588 - val_acc: 0.1940\n",
      "\n",
      "Epoch 00008: val_acc did not improve from 0.40500\n",
      "Epoch 9/10\n",
      "1000/1000 [==============================] - 88s 88ms/step - loss: 0.4991 - acc: 0.7560 - val_loss: 1.5211 - val_acc: 0.1940\n",
      "\n",
      "Epoch 00009: val_acc did not improve from 0.40500\n",
      "Epoch 10/10\n",
      "1000/1000 [==============================] - 91s 91ms/step - loss: 0.4720 - acc: 0.7680 - val_loss: 1.3322 - val_acc: 0.1980\n",
      "\n",
      "Epoch 00010: val_acc did not improve from 0.40500\n"
     ]
    },
    {
     "data": {
      "text/plain": [
       "<keras.callbacks.History at 0x296b7bd7438>"
      ]
     },
     "execution_count": 85,
     "metadata": {},
     "output_type": "execute_result"
    }
   ],
   "source": [
    "#run model\n",
    "history = History()\n",
    "filepath=\"seqWeights/ConvNet-test-{epoch:02d}-{val_acc:.2f}.hdf5\"\n",
    "checkpoint = ModelCheckpoint(filepath, monitor='val_acc', verbose=1, save_best_only=True, mode='max')\n",
    "numExamples = 1000\n",
    "batch_size = 100\n",
    "epochs = 10\n",
    "print(X_train.shape)\n",
    "print((X_train[0:numExamples,:,:,:]).shape)\n",
    "mymodel.fit(X_train[0:numExamples, :, :,:],\n",
    "          labels_onehot_train[0:numExamples],\n",
    "          batch_size=batch_size,\n",
    "          epochs=epochs,\n",
    "          validation_data=(X_val[0:numExamples,:,:,:], labels_onehot_val[0:numExamples]), verbose = 1,\n",
    "         callbacks = [history, checkpoint])\n"
   ]
  },
  {
   "cell_type": "code",
   "execution_count": null,
   "metadata": {},
   "outputs": [
    {
     "name": "stdout",
     "output_type": "stream",
     "text": [
      "Train on 2000 samples, validate on 2000 samples\n",
      "Epoch 1/10\n",
      "2000/2000 [==============================] - 172s 86ms/step - loss: 0.5283 - acc: 0.7420 - val_loss: 1.7087 - val_acc: 0.1460\n",
      "\n",
      "Epoch 00001: saving model to seqWeights/noise_class-01-0.15.hdf5\n",
      "Epoch 2/10\n",
      "2000/2000 [==============================] - 176s 88ms/step - loss: 0.5360 - acc: 0.7285 - val_loss: 1.6123 - val_acc: 0.1460\n",
      "\n",
      "Epoch 00002: saving model to seqWeights/noise_class-02-0.15.hdf5\n",
      "Epoch 3/10\n",
      "2000/2000 [==============================] - 176s 88ms/step - loss: 0.5095 - acc: 0.7335 - val_loss: 1.4530 - val_acc: 0.1430\n",
      "\n",
      "Epoch 00003: saving model to seqWeights/noise_class-03-0.14.hdf5\n",
      "Epoch 4/10\n",
      "2000/2000 [==============================] - 172s 86ms/step - loss: 0.4959 - acc: 0.7435 - val_loss: 1.1434 - val_acc: 0.2515\n",
      "\n",
      "Epoch 00004: saving model to seqWeights/noise_class-04-0.25.hdf5\n",
      "Epoch 5/10\n",
      "2000/2000 [==============================] - 174s 87ms/step - loss: 0.4955 - acc: 0.7555 - val_loss: 1.2118 - val_acc: 0.1590\n",
      "\n",
      "Epoch 00005: saving model to seqWeights/noise_class-05-0.16.hdf5\n",
      "Epoch 6/10\n",
      "2000/2000 [==============================] - 173s 87ms/step - loss: 0.4976 - acc: 0.7445 - val_loss: 1.2474 - val_acc: 0.1590\n",
      "\n",
      "Epoch 00006: saving model to seqWeights/noise_class-06-0.16.hdf5\n",
      "Epoch 7/10\n",
      "2000/2000 [==============================] - 174s 87ms/step - loss: 0.4803 - acc: 0.7470 - val_loss: 1.3646 - val_acc: 0.1460\n",
      "\n",
      "Epoch 00007: saving model to seqWeights/noise_class-07-0.15.hdf5\n",
      "Epoch 8/10\n",
      "2000/2000 [==============================] - 171s 86ms/step - loss: 0.4908 - acc: 0.7500 - val_loss: 1.2150 - val_acc: 0.1745\n",
      "\n",
      "Epoch 00008: saving model to seqWeights/noise_class-08-0.17.hdf5\n",
      "Epoch 9/10\n",
      "2000/2000 [==============================] - 174s 87ms/step - loss: 0.4908 - acc: 0.7435 - val_loss: 1.3081 - val_acc: 0.1460\n",
      "\n",
      "Epoch 00009: saving model to seqWeights/noise_class-09-0.15.hdf5\n",
      "Epoch 10/10\n",
      " 800/2000 [===========>..................] - ETA: 1:25 - loss: 0.4942 - acc: 0.7388"
     ]
    }
   ],
   "source": [
    "mymodel.fit(X_train[0:numExamples, :, :,:],\n",
    "          labels_onehot_train[0:numExamples],\n",
    "          batch_size=batch_size,\n",
    "          epochs=epochs,\n",
    "          validation_data=(X_val[0:numExamples,:,:,:], labels_onehot_val[0:numExamples]), verbose = 1,\n",
    "         callbacks = [history, checkpoint])"
   ]
  },
  {
   "cell_type": "code",
   "execution_count": 123,
   "metadata": {},
   "outputs": [],
   "source": [
    "currtime = datetime.datetime.now()\n",
    "histfname = \"./trainHistoryDict_\" + currtime.strftime(\"%m%d-%H%M\") + \"_5hotNoiseClassification\"\n",
    "with open(histfname, 'wb') as file_pi:\n",
    "        pickle.dump(history.history, file_pi)"
   ]
  },
  {
   "cell_type": "code",
   "execution_count": 124,
   "metadata": {},
   "outputs": [],
   "source": [
    "histfname = \"./trainHistoryDict_\" + \"0605-2259\" + \"_5hotNoiseClassification\"\n",
    "history = pickle.load(open(histfname, \"rb\" ))"
   ]
  },
  {
   "cell_type": "code",
   "execution_count": 126,
   "metadata": {},
   "outputs": [
    {
     "data": {
      "image/png": "[encoded data removed]",
      "text/plain": [
       "<Figure size 432x288 with 1 Axes>"
      ]
     },
     "metadata": {},
     "output_type": "display_data"
    },
    {
     "data": {
      "image/png": "[encoded data removed]",
      "text/plain": [
       "<Figure size 432x288 with 1 Axes>"
      ]
     },
     "metadata": {},
     "output_type": "display_data"
    }
   ],
   "source": [
    "plt.plot(history.history['acc'])\n",
    "plt.plot(history.history['val_acc'])\n",
    "plt.title('model accuracy')\n",
    "plt.ylabel('accuracy')\n",
    "plt.xlabel('epoch')\n",
    "plt.legend(['train','val'], loc='upper left')\n",
    "plt.show()\n",
    "\n",
    "plt.plot(history['loss'])\n",
    "plt.plot(history['val_loss'])\n",
    "plt.title('model loss')\n",
    "plt.ylabel('loss')\n",
    "plt.xlabel('epoch')\n",
    "plt.legend(['train','val'], loc='upper left')\n",
    "plt.show()"
   ]
  },
  {
   "cell_type": "code",
   "execution_count": 82,
   "metadata": {},
   "outputs": [],
   "source": [
    "preds = mymodel.predict(X_train[0:100])"
   ]
  },
  {
   "cell_type": "code",
   "execution_count": 84,
   "metadata": {},
   "outputs": [
    {
     "name": "stdout",
     "output_type": "stream",
     "text": [
      "[[9.9955004e-01 4.4997918e-04]\n",
      " [9.3017083e-01 6.9829136e-02]\n",
      " [9.9486959e-01 5.1304027e-03]\n",
      " [2.1925326e-01 7.8074670e-01]\n",
      " [8.1165135e-01 1.8834871e-01]\n",
      " [9.4235069e-01 5.7649311e-02]\n",
      " [3.3465210e-02 9.6653485e-01]\n",
      " [3.3735335e-01 6.6264665e-01]\n",
      " [7.4054539e-01 2.5945464e-01]\n",
      " [5.3009051e-01 4.6990946e-01]]\n",
      "[[1. 0.]\n",
      " [1. 0.]\n",
      " [1. 0.]\n",
      " [0. 1.]\n",
      " [1. 0.]\n",
      " [1. 0.]\n",
      " [0. 1.]\n",
      " [0. 1.]\n",
      " [1. 0.]\n",
      " [1. 0.]]\n"
     ]
    }
   ],
   "source": [
    "print(preds[0:10])\n",
    "print(labels_onehot_train[0:10])"
   ]
  },
  {
   "cell_type": "code",
   "execution_count": 86,
   "metadata": {},
   "outputs": [],
   "source": [
    "one_hot_input = {'A': 0, 'C': 1, 'G': 2, 'T': 3, '-': 4}\n",
    "num_encoder_tokens = len(one_hot_input)\n",
    "num_decoder_tokens = len(one_hot_input)\n",
    "latent_dim = 100\n",
    "\n",
    "encoder_inputs = Input(shape=(None, num_encoder_tokens))\n",
    "e_lstm_1 = Bidirectional(LSTM(latent_dim, return_sequences = True))(encoder_inputs)\n",
    "e_dropout = Dropout(0.5)(e_lstm_1)\n",
    "e_lstm_2 = Bidirectional(LSTM(latent_dim, return_sequences = False))(e_dropout)\n",
    "#e_lstm_3 = Bidirectional(LSTM(latent_dim, return_sequences = True))\n",
    "\n",
    "noise_class = Dense(2, activation = \"softmax\")(e_lstm_2)\n",
    "\n",
    "\n"
   ]
  },
  {
   "cell_type": "code",
   "execution_count": 92,
   "metadata": {},
   "outputs": [
    {
     "name": "stdout",
     "output_type": "stream",
     "text": [
      "WARNING:tensorflow:Variable *= will be deprecated. Use variable.assign_mul if you want assignment to the variable value or 'x = x * y' if you want a new python Tensor object.\n",
      "Train on 2000 samples, validate on 2000 samples\n",
      "Epoch 1/10\n",
      "2000/2000 [==============================] - 121s 61ms/step - loss: 0.6081 - acc: 0.7645 - val_loss: 0.9660 - val_acc: 0.1460\n",
      "\n",
      "Epoch 00001: saving model to seqWeights/noise_class-01-0.15.hdf5\n",
      "Epoch 2/10\n",
      "2000/2000 [==============================] - 123s 61ms/step - loss: 0.5599 - acc: 0.7685 - val_loss: 1.0955 - val_acc: 0.1460\n",
      "\n",
      "Epoch 00002: saving model to seqWeights/noise_class-02-0.15.hdf5\n",
      "Epoch 3/10\n",
      "2000/2000 [==============================] - 128s 64ms/step - loss: 0.5468 - acc: 0.7685 - val_loss: 1.1759 - val_acc: 0.1460\n",
      "\n",
      "Epoch 00003: saving model to seqWeights/noise_class-03-0.15.hdf5\n",
      "Epoch 4/10\n",
      "2000/2000 [==============================] - 131s 66ms/step - loss: 0.5434 - acc: 0.7685 - val_loss: 1.2293 - val_acc: 0.1460\n",
      "\n",
      "Epoch 00004: saving model to seqWeights/noise_class-04-0.15.hdf5\n",
      "Epoch 5/10\n",
      "2000/2000 [==============================] - 128s 64ms/step - loss: 0.5424 - acc: 0.7685 - val_loss: 1.2470 - val_acc: 0.1460\n",
      "\n",
      "Epoch 00005: saving model to seqWeights/noise_class-05-0.15.hdf5\n",
      "Epoch 6/10\n",
      "1000/2000 [==============>...............] - ETA: 58s - loss: 0.5510 - acc: 0.7590 "
     ]
    },
    {
     "ename": "KeyboardInterrupt",
     "evalue": "",
     "output_type": "error",
     "traceback": [
      "\u001b[1;31m---------------------------------------------------------------------------\u001b[0m",
      "\u001b[1;31mKeyboardInterrupt\u001b[0m                         Traceback (most recent call last)",
      "\u001b[1;32m<ipython-input-92-fe2def0de4bc>\u001b[0m in \u001b[0;36m<module>\u001b[1;34m()\u001b[0m\n\u001b[0;32m     19\u001b[0m           \u001b[0mepochs\u001b[0m\u001b[1;33m=\u001b[0m\u001b[0mepochs\u001b[0m\u001b[1;33m,\u001b[0m\u001b[1;33m\u001b[0m\u001b[0m\n\u001b[0;32m     20\u001b[0m           \u001b[0mvalidation_data\u001b[0m\u001b[1;33m=\u001b[0m\u001b[1;33m(\u001b[0m\u001b[0mnp\u001b[0m\u001b[1;33m.\u001b[0m\u001b[0mswapaxes\u001b[0m\u001b[1;33m(\u001b[0m\u001b[0mnp\u001b[0m\u001b[1;33m.\u001b[0m\u001b[0msqueeze\u001b[0m\u001b[1;33m(\u001b[0m\u001b[0mX_val\u001b[0m\u001b[1;33m[\u001b[0m\u001b[1;36m0\u001b[0m\u001b[1;33m:\u001b[0m\u001b[0mnumExamples\u001b[0m\u001b[1;33m,\u001b[0m\u001b[1;33m:\u001b[0m\u001b[1;33m,\u001b[0m\u001b[1;33m:\u001b[0m\u001b[1;33m,\u001b[0m\u001b[1;33m:\u001b[0m\u001b[1;33m]\u001b[0m\u001b[1;33m)\u001b[0m\u001b[1;33m,\u001b[0m \u001b[1;36m1\u001b[0m\u001b[1;33m,\u001b[0m \u001b[1;36m2\u001b[0m\u001b[1;33m)\u001b[0m\u001b[1;33m,\u001b[0m \u001b[0mlabels_onehot_val\u001b[0m\u001b[1;33m[\u001b[0m\u001b[1;36m0\u001b[0m\u001b[1;33m:\u001b[0m\u001b[0mnumExamples\u001b[0m\u001b[1;33m]\u001b[0m\u001b[1;33m)\u001b[0m\u001b[1;33m,\u001b[0m \u001b[0mverbose\u001b[0m \u001b[1;33m=\u001b[0m \u001b[1;36m1\u001b[0m\u001b[1;33m,\u001b[0m\u001b[1;33m\u001b[0m\u001b[0m\n\u001b[1;32m---> 21\u001b[1;33m          callbacks = [history, checkpoint])\n\u001b[0m",
      "\u001b[1;32m~\\Miniconda3\\envs\\tensorflow\\lib\\site-packages\\keras\\engine\\training.py\u001b[0m in \u001b[0;36mfit\u001b[1;34m(self, x, y, batch_size, epochs, verbose, callbacks, validation_split, validation_data, shuffle, class_weight, sample_weight, initial_epoch, steps_per_epoch, validation_steps, **kwargs)\u001b[0m\n\u001b[0;32m   1703\u001b[0m                               \u001b[0minitial_epoch\u001b[0m\u001b[1;33m=\u001b[0m\u001b[0minitial_epoch\u001b[0m\u001b[1;33m,\u001b[0m\u001b[1;33m\u001b[0m\u001b[0m\n\u001b[0;32m   1704\u001b[0m                               \u001b[0msteps_per_epoch\u001b[0m\u001b[1;33m=\u001b[0m\u001b[0msteps_per_epoch\u001b[0m\u001b[1;33m,\u001b[0m\u001b[1;33m\u001b[0m\u001b[0m\n\u001b[1;32m-> 1705\u001b[1;33m                               validation_steps=validation_steps)\n\u001b[0m\u001b[0;32m   1706\u001b[0m \u001b[1;33m\u001b[0m\u001b[0m\n\u001b[0;32m   1707\u001b[0m     def evaluate(self, x=None, y=None,\n",
      "\u001b[1;32m~\\Miniconda3\\envs\\tensorflow\\lib\\site-packages\\keras\\engine\\training.py\u001b[0m in \u001b[0;36m_fit_loop\u001b[1;34m(self, f, ins, out_labels, batch_size, epochs, verbose, callbacks, val_f, val_ins, shuffle, callback_metrics, initial_epoch, steps_per_epoch, validation_steps)\u001b[0m\n\u001b[0;32m   1234\u001b[0m                         \u001b[0mins_batch\u001b[0m\u001b[1;33m[\u001b[0m\u001b[0mi\u001b[0m\u001b[1;33m]\u001b[0m \u001b[1;33m=\u001b[0m \u001b[0mins_batch\u001b[0m\u001b[1;33m[\u001b[0m\u001b[0mi\u001b[0m\u001b[1;33m]\u001b[0m\u001b[1;33m.\u001b[0m\u001b[0mtoarray\u001b[0m\u001b[1;33m(\u001b[0m\u001b[1;33m)\u001b[0m\u001b[1;33m\u001b[0m\u001b[0m\n\u001b[0;32m   1235\u001b[0m \u001b[1;33m\u001b[0m\u001b[0m\n\u001b[1;32m-> 1236\u001b[1;33m                     \u001b[0mouts\u001b[0m \u001b[1;33m=\u001b[0m \u001b[0mf\u001b[0m\u001b[1;33m(\u001b[0m\u001b[0mins_batch\u001b[0m\u001b[1;33m)\u001b[0m\u001b[1;33m\u001b[0m\u001b[0m\n\u001b[0m\u001b[0;32m   1237\u001b[0m                     \u001b[1;32mif\u001b[0m \u001b[1;32mnot\u001b[0m \u001b[0misinstance\u001b[0m\u001b[1;33m(\u001b[0m\u001b[0mouts\u001b[0m\u001b[1;33m,\u001b[0m \u001b[0mlist\u001b[0m\u001b[1;33m)\u001b[0m\u001b[1;33m:\u001b[0m\u001b[1;33m\u001b[0m\u001b[0m\n\u001b[0;32m   1238\u001b[0m                         \u001b[0mouts\u001b[0m \u001b[1;33m=\u001b[0m \u001b[1;33m[\u001b[0m\u001b[0mouts\u001b[0m\u001b[1;33m]\u001b[0m\u001b[1;33m\u001b[0m\u001b[0m\n",
      "\u001b[1;32m~\\Miniconda3\\envs\\tensorflow\\lib\\site-packages\\keras\\backend\\tensorflow_backend.py\u001b[0m in \u001b[0;36m__call__\u001b[1;34m(self, inputs)\u001b[0m\n\u001b[0;32m   2480\u001b[0m         \u001b[0msession\u001b[0m \u001b[1;33m=\u001b[0m \u001b[0mget_session\u001b[0m\u001b[1;33m(\u001b[0m\u001b[1;33m)\u001b[0m\u001b[1;33m\u001b[0m\u001b[0m\n\u001b[0;32m   2481\u001b[0m         updated = session.run(fetches=fetches, feed_dict=feed_dict,\n\u001b[1;32m-> 2482\u001b[1;33m                               **self.session_kwargs)\n\u001b[0m\u001b[0;32m   2483\u001b[0m         \u001b[1;32mreturn\u001b[0m \u001b[0mupdated\u001b[0m\u001b[1;33m[\u001b[0m\u001b[1;33m:\u001b[0m\u001b[0mlen\u001b[0m\u001b[1;33m(\u001b[0m\u001b[0mself\u001b[0m\u001b[1;33m.\u001b[0m\u001b[0moutputs\u001b[0m\u001b[1;33m)\u001b[0m\u001b[1;33m]\u001b[0m\u001b[1;33m\u001b[0m\u001b[0m\n\u001b[0;32m   2484\u001b[0m \u001b[1;33m\u001b[0m\u001b[0m\n",
      "\u001b[1;32m~\\Miniconda3\\envs\\tensorflow\\lib\\site-packages\\tensorflow\\python\\client\\session.py\u001b[0m in \u001b[0;36mrun\u001b[1;34m(self, fetches, feed_dict, options, run_metadata)\u001b[0m\n\u001b[0;32m    898\u001b[0m     \u001b[1;32mtry\u001b[0m\u001b[1;33m:\u001b[0m\u001b[1;33m\u001b[0m\u001b[0m\n\u001b[0;32m    899\u001b[0m       result = self._run(None, fetches, feed_dict, options_ptr,\n\u001b[1;32m--> 900\u001b[1;33m                          run_metadata_ptr)\n\u001b[0m\u001b[0;32m    901\u001b[0m       \u001b[1;32mif\u001b[0m \u001b[0mrun_metadata\u001b[0m\u001b[1;33m:\u001b[0m\u001b[1;33m\u001b[0m\u001b[0m\n\u001b[0;32m    902\u001b[0m         \u001b[0mproto_data\u001b[0m \u001b[1;33m=\u001b[0m \u001b[0mtf_session\u001b[0m\u001b[1;33m.\u001b[0m\u001b[0mTF_GetBuffer\u001b[0m\u001b[1;33m(\u001b[0m\u001b[0mrun_metadata_ptr\u001b[0m\u001b[1;33m)\u001b[0m\u001b[1;33m\u001b[0m\u001b[0m\n",
      "\u001b[1;32m~\\Miniconda3\\envs\\tensorflow\\lib\\site-packages\\tensorflow\\python\\client\\session.py\u001b[0m in \u001b[0;36m_run\u001b[1;34m(self, handle, fetches, feed_dict, options, run_metadata)\u001b[0m\n\u001b[0;32m   1133\u001b[0m     \u001b[1;32mif\u001b[0m \u001b[0mfinal_fetches\u001b[0m \u001b[1;32mor\u001b[0m \u001b[0mfinal_targets\u001b[0m \u001b[1;32mor\u001b[0m \u001b[1;33m(\u001b[0m\u001b[0mhandle\u001b[0m \u001b[1;32mand\u001b[0m \u001b[0mfeed_dict_tensor\u001b[0m\u001b[1;33m)\u001b[0m\u001b[1;33m:\u001b[0m\u001b[1;33m\u001b[0m\u001b[0m\n\u001b[0;32m   1134\u001b[0m       results = self._do_run(handle, final_targets, final_fetches,\n\u001b[1;32m-> 1135\u001b[1;33m                              feed_dict_tensor, options, run_metadata)\n\u001b[0m\u001b[0;32m   1136\u001b[0m     \u001b[1;32melse\u001b[0m\u001b[1;33m:\u001b[0m\u001b[1;33m\u001b[0m\u001b[0m\n\u001b[0;32m   1137\u001b[0m       \u001b[0mresults\u001b[0m \u001b[1;33m=\u001b[0m \u001b[1;33m[\u001b[0m\u001b[1;33m]\u001b[0m\u001b[1;33m\u001b[0m\u001b[0m\n",
      "\u001b[1;32m~\\Miniconda3\\envs\\tensorflow\\lib\\site-packages\\tensorflow\\python\\client\\session.py\u001b[0m in \u001b[0;36m_do_run\u001b[1;34m(self, handle, target_list, fetch_list, feed_dict, options, run_metadata)\u001b[0m\n\u001b[0;32m   1314\u001b[0m     \u001b[1;32mif\u001b[0m \u001b[0mhandle\u001b[0m \u001b[1;32mis\u001b[0m \u001b[1;32mNone\u001b[0m\u001b[1;33m:\u001b[0m\u001b[1;33m\u001b[0m\u001b[0m\n\u001b[0;32m   1315\u001b[0m       return self._do_call(_run_fn, feeds, fetches, targets, options,\n\u001b[1;32m-> 1316\u001b[1;33m                            run_metadata)\n\u001b[0m\u001b[0;32m   1317\u001b[0m     \u001b[1;32melse\u001b[0m\u001b[1;33m:\u001b[0m\u001b[1;33m\u001b[0m\u001b[0m\n\u001b[0;32m   1318\u001b[0m       \u001b[1;32mreturn\u001b[0m \u001b[0mself\u001b[0m\u001b[1;33m.\u001b[0m\u001b[0m_do_call\u001b[0m\u001b[1;33m(\u001b[0m\u001b[0m_prun_fn\u001b[0m\u001b[1;33m,\u001b[0m \u001b[0mhandle\u001b[0m\u001b[1;33m,\u001b[0m \u001b[0mfeeds\u001b[0m\u001b[1;33m,\u001b[0m \u001b[0mfetches\u001b[0m\u001b[1;33m)\u001b[0m\u001b[1;33m\u001b[0m\u001b[0m\n",
      "\u001b[1;32m~\\Miniconda3\\envs\\tensorflow\\lib\\site-packages\\tensorflow\\python\\client\\session.py\u001b[0m in \u001b[0;36m_do_call\u001b[1;34m(self, fn, *args)\u001b[0m\n\u001b[0;32m   1320\u001b[0m   \u001b[1;32mdef\u001b[0m \u001b[0m_do_call\u001b[0m\u001b[1;33m(\u001b[0m\u001b[0mself\u001b[0m\u001b[1;33m,\u001b[0m \u001b[0mfn\u001b[0m\u001b[1;33m,\u001b[0m \u001b[1;33m*\u001b[0m\u001b[0margs\u001b[0m\u001b[1;33m)\u001b[0m\u001b[1;33m:\u001b[0m\u001b[1;33m\u001b[0m\u001b[0m\n\u001b[0;32m   1321\u001b[0m     \u001b[1;32mtry\u001b[0m\u001b[1;33m:\u001b[0m\u001b[1;33m\u001b[0m\u001b[0m\n\u001b[1;32m-> 1322\u001b[1;33m       \u001b[1;32mreturn\u001b[0m \u001b[0mfn\u001b[0m\u001b[1;33m(\u001b[0m\u001b[1;33m*\u001b[0m\u001b[0margs\u001b[0m\u001b[1;33m)\u001b[0m\u001b[1;33m\u001b[0m\u001b[0m\n\u001b[0m\u001b[0;32m   1323\u001b[0m     \u001b[1;32mexcept\u001b[0m \u001b[0merrors\u001b[0m\u001b[1;33m.\u001b[0m\u001b[0mOpError\u001b[0m \u001b[1;32mas\u001b[0m \u001b[0me\u001b[0m\u001b[1;33m:\u001b[0m\u001b[1;33m\u001b[0m\u001b[0m\n\u001b[0;32m   1324\u001b[0m       \u001b[0mmessage\u001b[0m \u001b[1;33m=\u001b[0m \u001b[0mcompat\u001b[0m\u001b[1;33m.\u001b[0m\u001b[0mas_text\u001b[0m\u001b[1;33m(\u001b[0m\u001b[0me\u001b[0m\u001b[1;33m.\u001b[0m\u001b[0mmessage\u001b[0m\u001b[1;33m)\u001b[0m\u001b[1;33m\u001b[0m\u001b[0m\n",
      "\u001b[1;32m~\\Miniconda3\\envs\\tensorflow\\lib\\site-packages\\tensorflow\\python\\client\\session.py\u001b[0m in \u001b[0;36m_run_fn\u001b[1;34m(feed_dict, fetch_list, target_list, options, run_metadata)\u001b[0m\n\u001b[0;32m   1305\u001b[0m       \u001b[0mself\u001b[0m\u001b[1;33m.\u001b[0m\u001b[0m_extend_graph\u001b[0m\u001b[1;33m(\u001b[0m\u001b[1;33m)\u001b[0m\u001b[1;33m\u001b[0m\u001b[0m\n\u001b[0;32m   1306\u001b[0m       return self._call_tf_sessionrun(\n\u001b[1;32m-> 1307\u001b[1;33m           options, feed_dict, fetch_list, target_list, run_metadata)\n\u001b[0m\u001b[0;32m   1308\u001b[0m \u001b[1;33m\u001b[0m\u001b[0m\n\u001b[0;32m   1309\u001b[0m     \u001b[1;32mdef\u001b[0m \u001b[0m_prun_fn\u001b[0m\u001b[1;33m(\u001b[0m\u001b[0mhandle\u001b[0m\u001b[1;33m,\u001b[0m \u001b[0mfeed_dict\u001b[0m\u001b[1;33m,\u001b[0m \u001b[0mfetch_list\u001b[0m\u001b[1;33m)\u001b[0m\u001b[1;33m:\u001b[0m\u001b[1;33m\u001b[0m\u001b[0m\n",
      "\u001b[1;32m~\\Miniconda3\\envs\\tensorflow\\lib\\site-packages\\tensorflow\\python\\client\\session.py\u001b[0m in \u001b[0;36m_call_tf_sessionrun\u001b[1;34m(self, options, feed_dict, fetch_list, target_list, run_metadata)\u001b[0m\n\u001b[0;32m   1407\u001b[0m       return tf_session.TF_SessionRun_wrapper(\n\u001b[0;32m   1408\u001b[0m           \u001b[0mself\u001b[0m\u001b[1;33m.\u001b[0m\u001b[0m_session\u001b[0m\u001b[1;33m,\u001b[0m \u001b[0moptions\u001b[0m\u001b[1;33m,\u001b[0m \u001b[0mfeed_dict\u001b[0m\u001b[1;33m,\u001b[0m \u001b[0mfetch_list\u001b[0m\u001b[1;33m,\u001b[0m \u001b[0mtarget_list\u001b[0m\u001b[1;33m,\u001b[0m\u001b[1;33m\u001b[0m\u001b[0m\n\u001b[1;32m-> 1409\u001b[1;33m           run_metadata)\n\u001b[0m\u001b[0;32m   1410\u001b[0m     \u001b[1;32melse\u001b[0m\u001b[1;33m:\u001b[0m\u001b[1;33m\u001b[0m\u001b[0m\n\u001b[0;32m   1411\u001b[0m       \u001b[1;32mwith\u001b[0m \u001b[0merrors\u001b[0m\u001b[1;33m.\u001b[0m\u001b[0mraise_exception_on_not_ok_status\u001b[0m\u001b[1;33m(\u001b[0m\u001b[1;33m)\u001b[0m \u001b[1;32mas\u001b[0m \u001b[0mstatus\u001b[0m\u001b[1;33m:\u001b[0m\u001b[1;33m\u001b[0m\u001b[0m\n",
      "\u001b[1;31mKeyboardInterrupt\u001b[0m: "
     ]
    }
   ],
   "source": [
    "model_seq = Model(encoder_inputs, noise_class)\n",
    "\n",
    "#model_seq.load_weights(\"seqWeights/LSTM-test-comboseqs-dropout0.5-manytomany-11-0.83.hdf5\")\n",
    "adam = keras.optimizers.Adam(lr = .001, beta_1=0.9, beta_2=0.999, epsilon=None, decay=0.95, amsgrad=False)\n",
    "model_seq.compile(optimizer= adam, loss='categorical_crossentropy', metrics = ['accuracy'])\n",
    "\n",
    "history = History()\n",
    "filepath=\"seqWeights/noise_class-{epoch:02d}-{val_acc:.2f}.hdf5\"\n",
    "checkpoint = ModelCheckpoint(filepath, monitor='val_acc', verbose=1, save_best_only= False, mode='max')\n",
    "\n",
    "numExamples = 2000\n",
    "batch_size = 100\n",
    "epochs = 10\n",
    "#output_seqs = decoder_input_data[0:numExamples, :, :]\n",
    "#y = output_seqs.reshape(numExamples, output_seqs.shape[1], 1)\n",
    "model_seq.fit(np.swapaxes(np.squeeze(X_train[0:numExamples, :, :,:]), 1, 2),\n",
    "          labels_onehot_train[0:numExamples],\n",
    "          batch_size=batch_size,\n",
    "          epochs=epochs,\n",
    "          validation_data=(np.swapaxes(np.squeeze(X_val[0:numExamples,:,:,:]), 1, 2), labels_onehot_val[0:numExamples]), verbose = 1,\n",
    "         callbacks = [history, checkpoint])\n"
   ]
  },
  {
   "cell_type": "code",
   "execution_count": null,
   "metadata": {},
   "outputs": [],
   "source": [
    "preds_seq = model_seq.predict(np.swapaxes(np.squeeze(X_train[0:numExamples, :, :,:]), 1, 2))"
   ]
  }
 ],
 "metadata": {
  "kernelspec": {
   "display_name": "Python 3",
   "language": "python",
   "name": "python3"
  },
  "language_info": {
   "codemirror_mode": {
    "name": "ipython",
    "version": 3
   },
   "file_extension": ".py",
   "mimetype": "text/x-python",
   "name": "python",
   "nbconvert_exporter": "python",
   "pygments_lexer": "ipython3",
   "version": "3.5.5"
  }
 },
 "nbformat": 4,
 "nbformat_minor": 2
}
