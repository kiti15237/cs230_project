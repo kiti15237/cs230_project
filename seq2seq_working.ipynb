{
 "cells": [
  {
   "cell_type": "code",
   "execution_count": 49,
   "metadata": {},
   "outputs": [],
   "source": [
    "import numpy as np\n",
    "import os\n",
    "import tempfile\n",
    "import keras\n",
    "from keras import backend as K\n",
    "from keras import layers\n",
    "from keras.models import Model\n",
    "from keras.layers import Input\n",
    "from keras.layers import LSTM\n",
    "from keras.layers import Dense\n",
    "from keras.utils.vis_utils import plot_model\n",
    "from keras.callbacks import History \n",
    "from keras.models import load_model\n",
    "import matplotlib.pyplot as plt\n",
    "import pickle\n",
    "\n"
   ]
  },
  {
   "cell_type": "code",
   "execution_count": 37,
   "metadata": {},
   "outputs": [],
   "source": [
    "# UPLOAD DATA\n",
    "# (each user should put datafiles in this directory on their computer)\n",
    "datapath = \"blast_tab_1hit.out\"\n",
    "file = open(datapath, 'r')\n",
    "\n",
    "same_entries = []\n",
    "diff_entries = []\n",
    "max_length_in = 0\n",
    "max_length_out = 0\n",
    "\n",
    "for ln in file:\n",
    "    toks = ln.split('\\t')\n",
    "    max_length_in = max(max_length_in,len(toks[2]))\n",
    "    max_length_out = max(max_length_out,len(toks[3]))\n",
    "    if toks[2] == toks[3]:\n",
    "        same_entries.append([toks[2], toks[3]])\n",
    "    else:\n",
    "        diff_entries.append([toks[2], toks[3]])\n",
    "\n",
    "file.close()\n",
    "num_entries = len(same_entries) + len(diff_entries)\n",
    "\n",
    "\n",
    "\n",
    "diff_entries_input = [entry[0] for entry in diff_entries]\n",
    "diff_entries_output = [(\"\\t\" + entry[1] + \"\\n\") for entry in diff_entries] #use '\\t' as start character and '\\n' as end character\n",
    "#Visualize\n",
    "diff_entries_output[1]\n",
    "one_hot_input = {'A': 0, 'T': 1, 'C': 2, 'G': 3, '-': 4, '\\t': 5, '\\n': 6}\n",
    "one_hot_output = {'A': 0, 'T': 1, 'C': 2, 'G': 3}"
   ]
  },
  {
   "cell_type": "code",
   "execution_count": 38,
   "metadata": {},
   "outputs": [
    {
     "name": "stdout",
     "output_type": "stream",
     "text": [
      "58863\n"
     ]
    }
   ],
   "source": [
    "print(len(diff_entries_input))"
   ]
  },
  {
   "cell_type": "code",
   "execution_count": 39,
   "metadata": {},
   "outputs": [
    {
     "name": "stdout",
     "output_type": "stream",
     "text": [
      "[[0. 0. 1. 0. 0. 0. 0.]\n",
      " [1. 0. 0. 0. 0. 0. 0.]\n",
      " [0. 0. 0. 1. 0. 0. 0.]\n",
      " [1. 0. 0. 0. 0. 0. 0.]\n",
      " [0. 0. 0. 1. 0. 0. 0.]\n",
      " [0. 0. 0. 1. 0. 0. 0.]\n",
      " [0. 0. 0. 1. 0. 0. 0.]\n",
      " [0. 0. 0. 1. 0. 0. 0.]\n",
      " [0. 0. 0. 1. 0. 0. 0.]\n",
      " [0. 0. 1. 0. 0. 0. 0.]\n",
      " [1. 0. 0. 0. 0. 0. 0.]\n",
      " [1. 0. 0. 0. 0. 0. 0.]\n",
      " [0. 0. 0. 1. 0. 0. 0.]\n",
      " [0. 0. 1. 0. 0. 0. 0.]\n",
      " [0. 0. 0. 1. 0. 0. 0.]\n",
      " [0. 1. 0. 0. 0. 0. 0.]\n",
      " [0. 1. 0. 0. 0. 0. 0.]\n",
      " [0. 0. 0. 1. 0. 0. 0.]\n",
      " [0. 1. 0. 0. 0. 0. 0.]\n",
      " [0. 0. 1. 0. 0. 0. 0.]\n",
      " [0. 0. 1. 0. 0. 0. 0.]\n",
      " [0. 0. 0. 1. 0. 0. 0.]\n",
      " [0. 0. 0. 1. 0. 0. 0.]\n",
      " [1. 0. 0. 0. 0. 0. 0.]\n",
      " [0. 0. 0. 1. 0. 0. 0.]\n",
      " [0. 1. 0. 0. 0. 0. 0.]\n",
      " [0. 1. 0. 0. 0. 0. 0.]\n",
      " [1. 0. 0. 0. 0. 0. 0.]\n",
      " [0. 0. 1. 0. 0. 0. 0.]\n",
      " [0. 1. 0. 0. 0. 0. 0.]\n",
      " [0. 0. 0. 1. 0. 0. 0.]\n",
      " [0. 0. 0. 1. 0. 0. 0.]\n",
      " [0. 0. 0. 1. 0. 0. 0.]\n",
      " [0. 0. 1. 0. 0. 0. 0.]\n",
      " [0. 0. 0. 1. 0. 0. 0.]\n",
      " [0. 1. 0. 0. 0. 0. 0.]\n",
      " [1. 0. 0. 0. 0. 0. 0.]\n",
      " [1. 0. 0. 0. 0. 0. 0.]\n",
      " [1. 0. 0. 0. 0. 0. 0.]\n",
      " [0. 0. 0. 1. 0. 0. 0.]\n",
      " [0. 0. 0. 1. 0. 0. 0.]\n",
      " [0. 0. 0. 1. 0. 0. 0.]\n",
      " [0. 0. 1. 0. 0. 0. 0.]\n",
      " [0. 0. 0. 1. 0. 0. 0.]\n",
      " [0. 0. 1. 0. 0. 0. 0.]\n",
      " [0. 0. 0. 1. 0. 0. 0.]\n",
      " [0. 0. 1. 0. 0. 0. 0.]\n",
      " [1. 0. 0. 0. 0. 0. 0.]\n",
      " [0. 0. 0. 1. 0. 0. 0.]\n",
      " [0. 0. 0. 1. 0. 0. 0.]\n",
      " [0. 0. 1. 0. 0. 0. 0.]\n",
      " [0. 0. 0. 1. 0. 0. 0.]\n",
      " [0. 0. 0. 1. 0. 0. 0.]\n",
      " [0. 1. 0. 0. 0. 0. 0.]\n",
      " [0. 0. 0. 1. 0. 0. 0.]\n",
      " [0. 0. 0. 1. 0. 0. 0.]\n",
      " [0. 0. 0. 1. 0. 0. 0.]\n",
      " [0. 0. 1. 0. 0. 0. 0.]\n",
      " [0. 1. 0. 0. 0. 0. 0.]\n",
      " [0. 0. 0. 1. 0. 0. 0.]\n",
      " [0. 0. 1. 0. 0. 0. 0.]\n",
      " [0. 0. 0. 1. 0. 0. 0.]\n",
      " [0. 1. 0. 0. 0. 0. 0.]\n",
      " [0. 0. 1. 0. 0. 0. 0.]\n",
      " [0. 0. 0. 1. 0. 0. 0.]\n",
      " [0. 0. 0. 1. 0. 0. 0.]\n",
      " [0. 0. 1. 0. 0. 0. 0.]\n",
      " [0. 0. 0. 1. 0. 0. 0.]\n",
      " [0. 0. 1. 0. 0. 0. 0.]\n",
      " [0. 1. 0. 0. 0. 0. 0.]\n",
      " [0. 0. 0. 1. 0. 0. 0.]\n",
      " [1. 0. 0. 0. 0. 0. 0.]\n",
      " [1. 0. 0. 0. 0. 0. 0.]\n",
      " [1. 0. 0. 0. 0. 0. 0.]\n",
      " [0. 0. 0. 1. 0. 0. 0.]\n",
      " [0. 0. 1. 0. 0. 0. 0.]\n",
      " [0. 0. 0. 1. 0. 0. 0.]\n",
      " [0. 0. 1. 0. 0. 0. 0.]\n",
      " [0. 0. 1. 0. 0. 0. 0.]\n",
      " [0. 0. 1. 0. 0. 0. 0.]\n",
      " [0. 0. 1. 0. 0. 0. 0.]\n",
      " [0. 0. 0. 1. 0. 0. 0.]\n",
      " [0. 0. 1. 0. 0. 0. 0.]\n",
      " [0. 1. 0. 0. 0. 0. 0.]\n",
      " [0. 1. 0. 0. 0. 0. 0.]\n",
      " [1. 0. 0. 0. 0. 0. 0.]\n",
      " [1. 0. 0. 0. 0. 0. 0.]\n",
      " [0. 0. 1. 0. 0. 0. 0.]\n",
      " [0. 0. 0. 1. 0. 0. 0.]\n",
      " [0. 0. 0. 1. 0. 0. 0.]\n",
      " [0. 0. 0. 1. 0. 0. 0.]\n",
      " [0. 0. 0. 1. 0. 0. 0.]\n",
      " [0. 0. 1. 0. 0. 0. 0.]\n",
      " [0. 0. 0. 1. 0. 0. 0.]\n",
      " [1. 0. 0. 0. 0. 0. 0.]\n",
      " [0. 0. 0. 1. 0. 0. 0.]\n",
      " [0. 0. 0. 1. 0. 0. 0.]\n",
      " [0. 0. 1. 0. 0. 0. 0.]\n",
      " [0. 0. 0. 1. 0. 0. 0.]]\n"
     ]
    }
   ],
   "source": [
    "#Choose dataset size\n",
    "\n",
    "input_seqs = diff_entries_input\n",
    "output_seqs = diff_entries_output\n",
    "\n",
    "#ENCODE\n",
    "encoder_input_data = np.zeros(\n",
    "    (len(input_seqs), max_length_in, len(one_hot_input)),\n",
    "    dtype='float32')\n",
    "decoder_input_data = np.zeros(\n",
    "    (len(input_seqs), max_length_out, len(one_hot_input)),\n",
    "    dtype='float32')\n",
    "decoder_target_data = np.zeros(\n",
    "    (len(input_seqs), max_length_out, len(one_hot_input)),\n",
    "    dtype='float32')\n",
    "\n",
    "for i, (input_seqs, output_seqs) in enumerate(zip(input_seqs, output_seqs)):\n",
    "    for t, char in enumerate(input_seqs):\n",
    "        encoder_input_data[i, t, one_hot_input[char]] = 1.\n",
    "    for t, char in enumerate(output_seqs):\n",
    "        # decoder_target_data is ahead of decoder_input_data by one timestep\n",
    "        decoder_input_data[i, t, one_hot_input[char]] = 1.\n",
    "        if t > 0:\n",
    "            # decoder_target_data will be ahead by one timestep\n",
    "            # and will not include the start character.\n",
    "            decoder_target_data[i, t - 1, one_hot_input[char]] = 1\n",
    "            \n",
    "print(encoder_input_data[1,1:100, :])"
   ]
  },
  {
   "cell_type": "code",
   "execution_count": 114,
   "metadata": {},
   "outputs": [],
   "source": [
    "#DEFINE MODEL\n",
    "def define_model(num_encoder_tokens, num_decoder_tokens, latent_dim):\n",
    "    #num tokens is number of words in the lexicon\n",
    "\n",
    "    # Define an input sequence and process it.\n",
    "    encoder_inputs = Input(shape=(None, num_encoder_tokens))\n",
    "    encoder = LSTM(latent_dim, return_state=True)\n",
    "    encoder_outputs, state_h, state_c = encoder(encoder_inputs)\n",
    "    # We discard `encoder_outputs` and only keep the states.\n",
    "    encoder_states = [state_h, state_c]\n",
    "\n",
    "    # Set up the decoder, using `encoder_states` as initial state.\n",
    "    decoder_inputs = Input(shape=(None, num_decoder_tokens))\n",
    "    # We set up our decoder to return full output sequences,\n",
    "    # and to return internal states as well. We don't use the\n",
    "    # return states in the training model, but we will use them in inference.\n",
    "    decoder_lstm = LSTM(latent_dim, return_sequences=True, return_state=True)\n",
    "    decoder_outputs, _, _ = decoder_lstm(decoder_inputs, initial_state=encoder_states)\n",
    "    decoder_dense = Dense(num_decoder_tokens, activation='softmax')\n",
    "    decoder_outputs = decoder_dense(decoder_outputs)\n",
    "\n",
    "    return encoder_inputs, decoder_inputs, decoder_outputs"
   ]
  },
  {
   "cell_type": "code",
   "execution_count": 43,
   "metadata": {},
   "outputs": [
    {
     "name": "stdout",
     "output_type": "stream",
     "text": [
      "Train on 5600 samples, validate on 1400 samples\n",
      "Epoch 1/10\n",
      "5600/5600 [==============================] - 345s 62ms/step - loss: 1.3851 - acc: 0.1850 - val_loss: 1.3752 - val_acc: 0.2061\n",
      "Epoch 2/10\n",
      "5600/5600 [==============================] - 345s 62ms/step - loss: 1.3679 - acc: 0.2126 - val_loss: 1.3580 - val_acc: 0.2211\n",
      "Epoch 3/10\n",
      "5600/5600 [==============================] - 339s 60ms/step - loss: 1.3501 - acc: 0.2293 - val_loss: 1.3392 - val_acc: 0.2324\n",
      "Epoch 4/10\n",
      "5600/5600 [==============================] - 311s 55ms/step - loss: 1.3297 - acc: 0.2362 - val_loss: 1.3163 - val_acc: 0.2354\n",
      "Epoch 5/10\n",
      "5600/5600 [==============================] - 263s 47ms/step - loss: 1.3031 - acc: 0.2418 - val_loss: 1.2833 - val_acc: 0.2466\n",
      "Epoch 6/10\n",
      "5600/5600 [==============================] - 263s 47ms/step - loss: 1.2604 - acc: 0.2490 - val_loss: 1.2211 - val_acc: 0.2490\n",
      "Epoch 7/10\n",
      "5600/5600 [==============================] - 261s 47ms/step - loss: 1.1621 - acc: 0.2525 - val_loss: 1.0737 - val_acc: 0.2537\n",
      "Epoch 8/10\n",
      "5600/5600 [==============================] - 263s 47ms/step - loss: 1.0500 - acc: 0.2574 - val_loss: 1.0247 - val_acc: 0.2536\n",
      "Epoch 9/10\n",
      "5600/5600 [==============================] - 262s 47ms/step - loss: 1.0079 - acc: 0.2557 - val_loss: 1.0000 - val_acc: 0.2533\n",
      "Epoch 10/10\n",
      "5600/5600 [==============================] - 262s 47ms/step - loss: 0.9969 - acc: 0.2554 - val_loss: 0.9949 - val_acc: 0.2526\n"
     ]
    },
    {
     "name": "stderr",
     "output_type": "stream",
     "text": [
      "C:\\Users\\ctata\\Miniconda3\\envs\\tensorflow\\lib\\site-packages\\keras\\engine\\topology.py:2379: UserWarning: Layer lstm_12 was passed non-serializable keyword arguments: {'initial_state': [<tf.Tensor 'lstm_11/while/Exit_2:0' shape=(?, 100) dtype=float32>, <tf.Tensor 'lstm_11/while/Exit_3:0' shape=(?, 100) dtype=float32>]}. They will not be included in the serialized model (and thus will be missing at deserialization time).\n",
      "  str(node.arguments) + '. They will not be included '\n"
     ]
    },
    {
     "name": "stdout",
     "output_type": "stream",
     "text": [
      "Train on 5600 samples, validate on 1400 samples\n",
      "Epoch 1/10\n",
      "5600/5600 [==============================] - 287s 51ms/step - loss: 0.9877 - acc: 0.2582 - val_loss: 0.9825 - val_acc: 0.2553\n",
      "Epoch 2/10\n",
      "5600/5600 [==============================] - 273s 49ms/step - loss: 0.9814 - acc: 0.2587 - val_loss: 0.9796 - val_acc: 0.2553\n",
      "Epoch 3/10\n",
      "5600/5600 [==============================] - 366s 65ms/step - loss: 0.9780 - acc: 0.2587 - val_loss: 0.9761 - val_acc: 0.2580\n",
      "Epoch 4/10\n",
      "5600/5600 [==============================] - 767s 137ms/step - loss: 0.9733 - acc: 0.2636 - val_loss: 0.9694 - val_acc: 0.2706\n",
      "Epoch 5/10\n",
      "5600/5600 [==============================] - 726s 130ms/step - loss: 0.9680 - acc: 0.2682 - val_loss: 0.9641 - val_acc: 0.2740\n",
      "Epoch 6/10\n",
      "5600/5600 [==============================] - 754s 135ms/step - loss: 0.9602 - acc: 0.2750 - val_loss: 0.9558 - val_acc: 0.2825\n",
      "Epoch 7/10\n",
      "5600/5600 [==============================] - 712s 127ms/step - loss: 0.9535 - acc: 0.2792 - val_loss: 0.9528 - val_acc: 0.2887\n",
      "Epoch 8/10\n",
      "5600/5600 [==============================] - 632s 113ms/step - loss: 0.9458 - acc: 0.2903 - val_loss: 0.9433 - val_acc: 0.2939\n",
      "Epoch 9/10\n",
      "5600/5600 [==============================] - 750s 134ms/step - loss: 0.9325 - acc: 0.3029 - val_loss: 0.9297 - val_acc: 0.3003\n",
      "Epoch 10/10\n",
      "5600/5600 [==============================] - 757s 135ms/step - loss: 0.9279 - acc: 0.3017 - val_loss: 0.9228 - val_acc: 0.3118\n",
      "Train on 5600 samples, validate on 1400 samples\n",
      "Epoch 1/10\n",
      "5600/5600 [==============================] - 716s 128ms/step - loss: 1.0220 - acc: 0.3080 - val_loss: 0.9758 - val_acc: 0.2580\n",
      "Epoch 2/10\n",
      "5600/5600 [==============================] - 698s 125ms/step - loss: 0.9687 - acc: 0.2899 - val_loss: 0.9640 - val_acc: 0.2629\n",
      "Epoch 3/10\n",
      "5600/5600 [==============================] - 697s 124ms/step - loss: 0.9538 - acc: 0.2791 - val_loss: 0.9510 - val_acc: 0.2899\n",
      "Epoch 4/10\n",
      "5600/5600 [==============================] - 2071s 370ms/step - loss: 0.9408 - acc: 0.2907 - val_loss: 0.9410 - val_acc: 0.2873\n",
      "Epoch 5/10\n",
      "5600/5600 [==============================] - 685s 122ms/step - loss: 0.9289 - acc: 0.2976 - val_loss: 0.9297 - val_acc: 0.2990\n",
      "Epoch 6/10\n",
      "5600/5600 [==============================] - 538s 96ms/step - loss: 0.9220 - acc: 0.3530 - val_loss: 0.9254 - val_acc: 0.3153\n",
      "Epoch 7/10\n",
      "5600/5600 [==============================] - 384s 69ms/step - loss: 0.9118 - acc: 0.3178 - val_loss: 0.9060 - val_acc: 0.3284\n",
      "Epoch 8/10\n",
      "5600/5600 [==============================] - 413s 74ms/step - loss: 0.8899 - acc: 0.3411 - val_loss: 0.8841 - val_acc: 0.3303\n",
      "Epoch 9/10\n",
      "5600/5600 [==============================] - 341s 61ms/step - loss: 0.8641 - acc: 0.3665 - val_loss: 0.8549 - val_acc: 0.3393\n",
      "Epoch 10/10\n",
      "5600/5600 [==============================] - 324s 58ms/step - loss: 0.8315 - acc: 0.3628 - val_loss: 0.9006 - val_acc: 0.4346\n"
     ]
    }
   ],
   "source": [
    "batch_size = 50\n",
    "epochs = 10\n",
    "numExamples = 7000\n",
    "\n",
    "learning_rates = [.0001, .001, .01,]\n",
    "for lr in learning_rates:\n",
    "    # Define the model that will turn\n",
    "    # `encoder_input_data` & `decoder_input_data` into `decoder_target_data`\n",
    "    encoder_inputs, decoder_inputs, decoder_outputs = define_model(num_encoder_tokens = one_hot_input,\n",
    "                                                                  num_decoder_tokens = one_hot_input, \n",
    "                                                                  latent_dim = 100)\n",
    "    model = Model([encoder_inputs, decoder_inputs], decoder_outputs)\n",
    "    \n",
    "    adam = keras.optimizers.Adam(lr = lr, beta_1=0.9, beta_2=0.999, epsilon=None, decay=0.0, amsgrad=False)\n",
    "    model.compile(optimizer= adam, loss='categorical_crossentropy', metrics = ['accuracy'])\n",
    "\n",
    "    # Run training\n",
    "    history = History()\n",
    "\n",
    "    model.fit([encoder_input_data[0:numExamples, :, :], decoder_input_data[0:numExamples, :, :]], decoder_target_data[0:numExamples, :, :],\n",
    "              batch_size=batch_size,\n",
    "              epochs=epochs,\n",
    "              validation_split=0.2, verbose = 1,\n",
    "              callbacks = [history])\n",
    "    model.save('s2s_lr' + str(lr) + '.h5')\n",
    "    with open('history_lr' + str(lr), 'wb') as file_pi:\n",
    "        pickle.dump(history.history, file_pi)"
   ]
  },
  {
   "cell_type": "code",
   "execution_count": null,
   "metadata": {},
   "outputs": [],
   "source": [
    "#pickle.load(open( \"history_lr0.001\", \"rb\" ) )"
   ]
  },
  {
   "cell_type": "code",
   "execution_count": 83,
   "metadata": {
    "scrolled": true
   },
   "outputs": [
    {
     "data": {
      "image/png": "[encoded data removed]",
      "text/plain": [
       "<Figure size 432x288 with 1 Axes>"
      ]
     },
     "metadata": {},
     "output_type": "display_data"
    }
   ],
   "source": [
    "lr = 0.01\n",
    "history = pickle.load(open('history_lr' + str(lr), \"rb\"))\n",
    "def plot_loss(history):\n",
    "    epochs = len(history[\"loss\"])\n",
    "    plt.plot(range(0, epochs), history[\"loss\"])\n",
    "    plt.plot(range(0, epochs), history[\"val_loss\"])\n",
    "plot_loss(history)"
   ]
  },
  {
   "cell_type": "code",
   "execution_count": 59,
   "metadata": {},
   "outputs": [],
   "source": [
    "history_new = History()"
   ]
  },
  {
   "cell_type": "code",
   "execution_count": 111,
   "metadata": {},
   "outputs": [],
   "source": [
    "def continue_train_model(model, history, model_save, history_save, lr = .01, epochs = 10, batch_size = 50):\n",
    "    \n",
    "    history_new = History()\n",
    "    \n",
    "    adam = keras.optimizers.Adam(lr = lr, beta_1=0.9, beta_2=0.999, epsilon=None, decay=0.0, amsgrad=False)\n",
    "    model.compile(optimizer= adam, loss='categorical_crossentropy', metrics = ['accuracy'])\n",
    "    model.fit([encoder_input_data[0:numExamples, :, :], \n",
    "               decoder_input_data[0:numExamples, :, :]],\n",
    "               decoder_target_data[0:numExamples, :, :],\n",
    "                batch_size=batch_size,\n",
    "                epochs=epochs,\n",
    "                validation_split=0.2, \n",
    "                verbose = 1,\n",
    "                callbacks = [history_new])\n",
    "\n",
    "    #update history\n",
    "    for k in history.keys():\n",
    "        history[k] = history[k] + history_new.history[k]\n",
    "    with open(history_save, 'wb') as file_pi:\n",
    "        pickle.dump(history, file_pi)\n",
    "        \n",
    "    #Save model\n",
    "    model.save(model_save)\n",
    "    return(model, history)"
   ]
  },
  {
   "cell_type": "code",
   "execution_count": 113,
   "metadata": {},
   "outputs": [
    {
     "name": "stdout",
     "output_type": "stream",
     "text": [
      "Train on 5600 samples, validate on 1400 samples\n",
      "Epoch 1/10\n",
      "5600/5600 [==============================] - 224s 40ms/step - loss: 0.0798 - acc: 0.7747 - val_loss: 0.0685 - val_acc: 0.7723\n",
      "Epoch 2/10\n",
      "5600/5600 [==============================] - 229s 41ms/step - loss: 0.0707 - acc: 0.7751 - val_loss: 0.0598 - val_acc: 0.7758\n",
      "Epoch 3/10\n",
      "5600/5600 [==============================] - 232s 41ms/step - loss: 0.1394 - acc: 0.7452 - val_loss: 0.1471 - val_acc: 0.7368\n",
      "Epoch 4/10\n",
      "5600/5600 [==============================] - 234s 42ms/step - loss: 0.1315 - acc: 0.7457 - val_loss: 0.1064 - val_acc: 0.7546\n",
      "Epoch 5/10\n",
      "5600/5600 [==============================] - 234s 42ms/step - loss: 0.1164 - acc: 0.7536 - val_loss: 0.1231 - val_acc: 0.7497\n",
      "Epoch 6/10\n",
      "5600/5600 [==============================] - 186s 33ms/step - loss: 0.1119 - acc: 0.7528 - val_loss: 0.0914 - val_acc: 0.7563\n",
      "Epoch 7/10\n",
      "5600/5600 [==============================] - 183s 33ms/step - loss: 0.0977 - acc: 0.7573 - val_loss: 0.0834 - val_acc: 0.7637\n",
      "Epoch 8/10\n",
      "5600/5600 [==============================] - 211s 38ms/step - loss: 0.0943 - acc: 0.7623 - val_loss: 0.0916 - val_acc: 0.7700\n",
      "Epoch 9/10\n",
      "5600/5600 [==============================] - 236s 42ms/step - loss: 0.1139 - acc: 0.7610 - val_loss: 0.0937 - val_acc: 0.7662\n",
      "Epoch 10/10\n",
      "5600/5600 [==============================] - 229s 41ms/step - loss: 0.1000 - acc: 0.7667 - val_loss: 0.0846 - val_acc: 0.7699\n"
     ]
    },
    {
     "name": "stderr",
     "output_type": "stream",
     "text": [
      "C:\\Users\\ctata\\Miniconda3\\envs\\tensorflow\\lib\\site-packages\\keras\\engine\\topology.py:2379: UserWarning: Layer lstm_12 was passed non-serializable keyword arguments: {'initial_state': [<tf.Tensor 'lstm_11_15/while/Exit_2:0' shape=(?, 100) dtype=float32>, <tf.Tensor 'lstm_11_15/while/Exit_3:0' shape=(?, 100) dtype=float32>]}. They will not be included in the serialized model (and thus will be missing at deserialization time).\n",
      "  str(node.arguments) + '. They will not be included '\n"
     ]
    },
    {
     "data": {
      "image/png": "[encoded data removed]",
      "text/plain": [
       "<Figure size 432x288 with 1 Axes>"
      ]
     },
     "metadata": {},
     "output_type": "display_data"
    }
   ],
   "source": [
    "#Load and continue training as desired\n",
    "lr = 0.001\n",
    "model = load_model('s2s_lr.01_lr.001.h5')\n",
    "history = pickle.load(open('history_lr.01_ly.001.h5', \"rb\"))\n",
    "\n",
    "model, history = continue_train_model(model = model, history = history, model_save = ('s2s_lr.01_lr.001.h5'), history_save = ('history_lr.01_ly.001.h5'), \n",
    "                                      lr = .001, epochs = 10, batch_size = 50)\n",
    " \n",
    "    \n",
    "plot_loss(history)"
   ]
  },
  {
   "cell_type": "code",
   "execution_count": 116,
   "metadata": {},
   "outputs": [
    {
     "ename": "AttributeError",
     "evalue": "'numpy.ndarray' object has no attribute 'lower'",
     "output_type": "error",
     "traceback": [
      "\u001b[1;31m---------------------------------------------------------------------------\u001b[0m",
      "\u001b[1;31mAttributeError\u001b[0m                            Traceback (most recent call last)",
      "\u001b[1;32m<ipython-input-116-04da8723cee9>\u001b[0m in \u001b[0;36m<module>\u001b[1;34m()\u001b[0m\n\u001b[0;32m     11\u001b[0m \u001b[1;31m# integer encode the documents\u001b[0m\u001b[1;33m\u001b[0m\u001b[1;33m\u001b[0m\u001b[0m\n\u001b[0;32m     12\u001b[0m \u001b[0mvocab_size\u001b[0m \u001b[1;33m=\u001b[0m \u001b[1;36m5\u001b[0m\u001b[1;33m\u001b[0m\u001b[0m\n\u001b[1;32m---> 13\u001b[1;33m \u001b[0mencoded_docs\u001b[0m \u001b[1;33m=\u001b[0m \u001b[1;33m[\u001b[0m\u001b[0mone_hot\u001b[0m\u001b[1;33m(\u001b[0m\u001b[0md\u001b[0m\u001b[1;33m,\u001b[0m \u001b[0mvocab_size\u001b[0m\u001b[1;33m)\u001b[0m \u001b[1;32mfor\u001b[0m \u001b[0md\u001b[0m \u001b[1;32min\u001b[0m \u001b[0mdocs\u001b[0m\u001b[1;33m]\u001b[0m\u001b[1;33m\u001b[0m\u001b[0m\n\u001b[0m\u001b[0;32m     14\u001b[0m \u001b[0mprint\u001b[0m\u001b[1;33m(\u001b[0m\u001b[0mencoded_docs\u001b[0m\u001b[1;33m)\u001b[0m\u001b[1;33m\u001b[0m\u001b[0m\n",
      "\u001b[1;32m<ipython-input-116-04da8723cee9>\u001b[0m in \u001b[0;36m<listcomp>\u001b[1;34m(.0)\u001b[0m\n\u001b[0;32m     11\u001b[0m \u001b[1;31m# integer encode the documents\u001b[0m\u001b[1;33m\u001b[0m\u001b[1;33m\u001b[0m\u001b[0m\n\u001b[0;32m     12\u001b[0m \u001b[0mvocab_size\u001b[0m \u001b[1;33m=\u001b[0m \u001b[1;36m5\u001b[0m\u001b[1;33m\u001b[0m\u001b[0m\n\u001b[1;32m---> 13\u001b[1;33m \u001b[0mencoded_docs\u001b[0m \u001b[1;33m=\u001b[0m \u001b[1;33m[\u001b[0m\u001b[0mone_hot\u001b[0m\u001b[1;33m(\u001b[0m\u001b[0md\u001b[0m\u001b[1;33m,\u001b[0m \u001b[0mvocab_size\u001b[0m\u001b[1;33m)\u001b[0m \u001b[1;32mfor\u001b[0m \u001b[0md\u001b[0m \u001b[1;32min\u001b[0m \u001b[0mdocs\u001b[0m\u001b[1;33m]\u001b[0m\u001b[1;33m\u001b[0m\u001b[0m\n\u001b[0m\u001b[0;32m     14\u001b[0m \u001b[0mprint\u001b[0m\u001b[1;33m(\u001b[0m\u001b[0mencoded_docs\u001b[0m\u001b[1;33m)\u001b[0m\u001b[1;33m\u001b[0m\u001b[0m\n",
      "\u001b[1;32m~\\Miniconda3\\envs\\tensorflow\\lib\\site-packages\\keras\\preprocessing\\text.py\u001b[0m in \u001b[0;36mone_hot\u001b[1;34m(text, n, filters, lower, split)\u001b[0m\n\u001b[0;32m     85\u001b[0m                          \u001b[0mfilters\u001b[0m\u001b[1;33m=\u001b[0m\u001b[0mfilters\u001b[0m\u001b[1;33m,\u001b[0m\u001b[1;33m\u001b[0m\u001b[0m\n\u001b[0;32m     86\u001b[0m                          \u001b[0mlower\u001b[0m\u001b[1;33m=\u001b[0m\u001b[0mlower\u001b[0m\u001b[1;33m,\u001b[0m\u001b[1;33m\u001b[0m\u001b[0m\n\u001b[1;32m---> 87\u001b[1;33m                          split=split)\n\u001b[0m\u001b[0;32m     88\u001b[0m \u001b[1;33m\u001b[0m\u001b[0m\n\u001b[0;32m     89\u001b[0m \u001b[1;33m\u001b[0m\u001b[0m\n",
      "\u001b[1;32m~\\Miniconda3\\envs\\tensorflow\\lib\\site-packages\\keras\\preprocessing\\text.py\u001b[0m in \u001b[0;36mhashing_trick\u001b[1;34m(text, n, hash_function, filters, lower, split)\u001b[0m\n\u001b[0;32m    128\u001b[0m                                 \u001b[0mfilters\u001b[0m\u001b[1;33m=\u001b[0m\u001b[0mfilters\u001b[0m\u001b[1;33m,\u001b[0m\u001b[1;33m\u001b[0m\u001b[0m\n\u001b[0;32m    129\u001b[0m                                 \u001b[0mlower\u001b[0m\u001b[1;33m=\u001b[0m\u001b[0mlower\u001b[0m\u001b[1;33m,\u001b[0m\u001b[1;33m\u001b[0m\u001b[0m\n\u001b[1;32m--> 130\u001b[1;33m                                 split=split)\n\u001b[0m\u001b[0;32m    131\u001b[0m     \u001b[1;32mreturn\u001b[0m \u001b[1;33m[\u001b[0m\u001b[1;33m(\u001b[0m\u001b[0mhash_function\u001b[0m\u001b[1;33m(\u001b[0m\u001b[0mw\u001b[0m\u001b[1;33m)\u001b[0m \u001b[1;33m%\u001b[0m \u001b[1;33m(\u001b[0m\u001b[0mn\u001b[0m \u001b[1;33m-\u001b[0m \u001b[1;36m1\u001b[0m\u001b[1;33m)\u001b[0m \u001b[1;33m+\u001b[0m \u001b[1;36m1\u001b[0m\u001b[1;33m)\u001b[0m \u001b[1;32mfor\u001b[0m \u001b[0mw\u001b[0m \u001b[1;32min\u001b[0m \u001b[0mseq\u001b[0m\u001b[1;33m]\u001b[0m\u001b[1;33m\u001b[0m\u001b[0m\n\u001b[0;32m    132\u001b[0m \u001b[1;33m\u001b[0m\u001b[0m\n",
      "\u001b[1;32m~\\Miniconda3\\envs\\tensorflow\\lib\\site-packages\\keras\\preprocessing\\text.py\u001b[0m in \u001b[0;36mtext_to_word_sequence\u001b[1;34m(text, filters, lower, split)\u001b[0m\n\u001b[0;32m     39\u001b[0m     \"\"\"\n\u001b[0;32m     40\u001b[0m     \u001b[1;32mif\u001b[0m \u001b[0mlower\u001b[0m\u001b[1;33m:\u001b[0m\u001b[1;33m\u001b[0m\u001b[0m\n\u001b[1;32m---> 41\u001b[1;33m         \u001b[0mtext\u001b[0m \u001b[1;33m=\u001b[0m \u001b[0mtext\u001b[0m\u001b[1;33m.\u001b[0m\u001b[0mlower\u001b[0m\u001b[1;33m(\u001b[0m\u001b[1;33m)\u001b[0m\u001b[1;33m\u001b[0m\u001b[0m\n\u001b[0m\u001b[0;32m     42\u001b[0m \u001b[1;33m\u001b[0m\u001b[0m\n\u001b[0;32m     43\u001b[0m     \u001b[1;32mif\u001b[0m \u001b[0msys\u001b[0m\u001b[1;33m.\u001b[0m\u001b[0mversion_info\u001b[0m \u001b[1;33m<\u001b[0m \u001b[1;33m(\u001b[0m\u001b[1;36m3\u001b[0m\u001b[1;33m,\u001b[0m\u001b[1;33m)\u001b[0m\u001b[1;33m:\u001b[0m\u001b[1;33m\u001b[0m\u001b[0m\n",
      "\u001b[1;31mAttributeError\u001b[0m: 'numpy.ndarray' object has no attribute 'lower'"
     ]
    }
   ],
   "source": [
    "from numpy import array\n",
    "from keras.preprocessing.text import one_hot\n",
    "from keras.preprocessing.sequence import pad_sequences\n",
    "from keras.models import Sequential\n",
    "from keras.layers import Dense\n",
    "from keras.layers import Flatten\n",
    "from keras.layers.embeddings import Embedding\n",
    "# define documents\n",
    "docs = encoder_input_data[0:5, :, :]\n",
    "\n",
    "# integer encode the documents\n",
    "vocab_size = 5\n",
    "encoded_docs = [one_hot(d, vocab_size) for d in docs]\n",
    "print(encoded_docs)\n"
   ]
  },
  {
   "cell_type": "code",
   "execution_count": null,
   "metadata": {},
   "outputs": [],
   "source": [
    "# pad documents to a max length of 4 words\n",
    "max_length = 4\n",
    "padded_docs = pad_sequences(encoded_docs, maxlen=max_length, padding='post')\n",
    "print(padded_docs)\n",
    "# define the model\n",
    "model = Sequential()\n",
    "model.add(Embedding(vocab_size, 8, input_length=max_length))\n",
    "model.add(Flatten())\n",
    "model.add(Dense(1, activation='sigmoid'))\n",
    "# compile the model\n",
    "model.compile(optimizer='adam', loss='binary_crossentropy', metrics=['acc'])\n",
    "# summarize the model\n",
    "print(model.summary())\n",
    "# fit the model\n",
    "model.fit(padded_docs, labels, epochs=50, verbose=0)\n",
    "# evaluate the model\n",
    "loss, accuracy = model.evaluate(padded_docs, labels, verbose=0)\n",
    "print('Accuracy: %f' % (accuracy*100))"
   ]
  },
  {
   "cell_type": "code",
   "execution_count": null,
   "metadata": {},
   "outputs": [],
   "source": [
    "\n",
    "#With more latent dimensions\n",
    "numExamples = 30000\n",
    "batch_size = 50\n",
    "epochs = 10\n",
    "\n",
    "encoder_inputs, decoder_inputs, decoder_outputs = define_model(num_encoder_tokens = one_hot_input,\n",
    "                                                                num_decoder_tokens = one_hot_input, \n",
    "                                                                latent_dim = 256)\n",
    "model = Model([encoder_inputs, decoder_inputs], decoder_outputs)\n",
    "    \n",
    "adam = keras.optimizers.Adam(lr = .01, beta_1=0.9, beta_2 = 0.999, epsilon=None, decay=0.0, amsgrad=False)\n",
    "model.compile(optimizer= adam, loss='categorical_crossentropy', metrics = ['accuracy'])\n",
    "history = History()\n",
    "\n",
    "model.fit([encoder_input_data[0:numExamples, :, :], \n",
    "               decoder_input_data[0:numExamples, :, :]],\n",
    "               decoder_target_data[0:numExamples, :, :],\n",
    "                batch_size=batch_size,\n",
    "                epochs=epochs,\n",
    "                validation_split=0.1, \n",
    "                verbose = 1,\n",
    "                callbacks = [history])"
   ]
  }
 ],
 "metadata": {
  "kernelspec": {
   "display_name": "Python 3",
   "language": "python",
   "name": "python3"
  },
  "language_info": {
   "codemirror_mode": {
    "name": "ipython",
    "version": 3
   },
   "file_extension": ".py",
   "mimetype": "text/x-python",
   "name": "python",
   "nbconvert_exporter": "python",
   "pygments_lexer": "ipython3",
   "version": "3.5.5"
  }
 },
 "nbformat": 4,
 "nbformat_minor": 2
}
