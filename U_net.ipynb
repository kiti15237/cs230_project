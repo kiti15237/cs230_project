{
 "cells": [
  {
   "cell_type": "code",
   "execution_count": 13,
   "metadata": {},
   "outputs": [],
   "source": [
    "# LOAD PACKAGES\n",
    "import numpy as np\n",
    "import re"
   ]
  },
  {
   "cell_type": "code",
   "execution_count": 71,
   "metadata": {},
   "outputs": [],
   "source": [
    "# UPLOAD DATA\n",
    "# (each user should put datafiles in this directory on their computer)\n",
    "datapath = \"blast_tab_1hit.out\"\n",
    "file = open(datapath, 'r')\n",
    "same_entries = []\n",
    "diff_entries = []\n",
    "num_same = 0\n",
    "max_len_in = 0\n",
    "max_len_out = 0\n",
    "\n",
    "for ln in file:\n",
    "    toks = ln.split('\\t')\n",
    "    max_length_in = max(max_length_in,len(toks[2]))\n",
    "    max_length_out = max(max_length_out,len(toks[3]))\n",
    "    if toks[2] == toks[3]:\n",
    "        same_entries.append(toks)\n",
    "    else:\n",
    "        diff_entries.append(toks)\n",
    "\n",
    "file.close()\n",
    "num_entries = len(same_entries) + len(diff_entries)"
   ]
  },
  {
   "cell_type": "code",
   "execution_count": 72,
   "metadata": {},
   "outputs": [
    {
     "name": "stdout",
     "output_type": "stream",
     "text": [
      "490670 sequences were uploaded\n",
      "431807 sequences had the same input and output\n",
      "58863 had errors\n",
      "\n",
      "Maximum sequence length in is 351\n",
      "Maximum sequence length out is 351\n",
      "\n",
      "Example Same:\n",
      "\n",
      "['ERR777695.9', 'Bacteroides_vulgatus_ATCC_8482_5', 'ACGGAGGATCCGAGCGTTATCCGGATTTATTGGGTTTAAAGGGAGCGTAGATGGATGTTTAAGTCAGTTGTGAAAGTTTGCGGCTCAACCGTAAAATTGCAGTTGATACTGGATATCTTGAGTGCAGTTGAGGCAGGCGGAATTCGTGGTGTAGCGGTGAAATGCTTAGATATCACGAAGAACTCCGATTGCGAAGGCAGCCTGCTAAGCTGCAACTGACATTGAGGCTCGAAAGTGTGGGTATCAAACAG', 'ACGGAGGATCCGAGCGTTATCCGGATTTATTGGGTTTAAAGGGAGCGTAGATGGATGTTTAAGTCAGTTGTGAAAGTTTGCGGCTCAACCGTAAAATTGCAGTTGATACTGGATATCTTGAGTGCAGTTGAGGCAGGCGGAATTCGTGGTGTAGCGGTGAAATGCTTAGATATCACGAAGAACTCCGATTGCGAAGGCAGCCTGCTAAGCTGCAACTGACATTGAGGCTCGAAAGTGTGGGTATCAAACAG', '5.40e-133\\n']\n",
      "\n",
      "Example Different:\n",
      "\n",
      "['ERR777695.8', 'Desulfovibrio_piger_ATCC_29098_3', 'ACGGAGGGTGCGAGCGTTAATCGGAATCACTGGGCGTAAAGCGCACGTAGGCTGCTTGGTAAGTCAGGGGTGAAAGCCCGCGGCTCAACCGCGGAATTGCCTTTGATACTGC-CGAGCTAGAGTCCGGGAGAGGGTAGTGGAATTCCAGGTGTAGGAGTGAAATCCGTAGAGATCTGGAGGAACATCAGTGGCGAAGGCGACTACCTGGACCGGTACTGACGCTGAGGTGCGAAAGCGTGGGGAGCAAACAG', 'ACGGAGGGTGCAAGCGTTAATCGGAATCACTGGGCGTAAAGCGCACGTAGGCTGTTATGTAAGTCAGGGGTGAAAGCCCACGGCTCAACCGTGGAACTGCCCTTGATACTGCACGA-CTCGAATCCGGGAGAGGGTGGCGGAATTCCAGGTGTAGGAGTGAAATCCGTAGATATCTGGAGGAACATCAGTGGCGAAGGCGGCCACCTGGACCGGTATTGACGCTGAGGTGCGAAAGCGTGGGGAGCAAACAG', '5.64e-103\\n']\n"
     ]
    }
   ],
   "source": [
    "# ANALYZE DATA\n",
    "print(str(num_entries) + ' sequences were uploaded')\n",
    "print(str(len(same_entries)) + ' sequences had the same input and output')\n",
    "print(str(len(diff_entries)) + ' had errors')\n",
    "\n",
    "print('\\nMaximum sequence length in is ' + str(max_length_in))\n",
    "print('Maximum sequence length out is ' + str(max_length_out))\n",
    "\n",
    "print('\\nExample Same:\\n')\n",
    "print(same_entries[0])\n",
    "print('\\nExample Different:\\n')\n",
    "print(diff_entries[0])"
   ]
  },
  {
   "cell_type": "code",
   "execution_count": null,
   "metadata": {},
   "outputs": [],
   "source": [
    "def one_hot_sequence(sequence):\n",
    "    one_hot = np.zeros((1,4,len(sequence)))\n",
    "\n",
    "    for i in range(len(sequence)):\n",
    "        if sequence[i] == 'A':\n",
    "            one_hot[0,0,i] = 1\n",
    "        elif sequence[i] == 'C':\n",
    "            one_hot[0,1,i] = 1\n",
    "        elif sequence[i] == 'G':\n",
    "            one_hot[0,2,i] = 1\n",
    "        elif sequence[i] == 'T':\n",
    "            one_hot[0,3,i] = 1\n",
    "\n",
    "    return one_hot"
   ]
  },
  {
   "cell_type": "code",
   "execution_count": 79,
   "metadata": {},
   "outputs": [],
   "source": [
    "def one_hot_list(entries,max_length):\n",
    "    m = len(entries)\n",
    "    one_hot_ins = np.zeros((m,4,max_length))\n",
    "    one_hot_outs = np.zeros((m,4,max_length))\n",
    "    print('Working...')\n",
    "    \n",
    "    for i in range(0,m):\n",
    "        entry = entries[i]\n",
    "        \n",
    "        one_hot_in = one_hot_sequence(entry[2])\n",
    "        sequence_length = one_hot_in.shape[2]\n",
    "        one_hot_ins[i,:,0:sequence_length] = one_hot_in\n",
    "        \n",
    "        one_hot_out = one_hot_sequence(entry[3])\n",
    "        sequence_length = one_hot_out.shape[2]\n",
    "        one_hot_outs[i,:,0:sequence_length] = one_hot_out\n",
    "        \n",
    "            \n",
    "    print('Done')\n",
    "    return one_hot_ins, one_hot_outs"
   ]
  },
  {
   "cell_type": "code",
   "execution_count": 80,
   "metadata": {},
   "outputs": [
    {
     "name": "stdout",
     "output_type": "stream",
     "text": [
      "Working...\n",
      "Done\n"
     ]
    }
   ],
   "source": [
    "[one_hot_ins,one_hot_outs] = one_hot_list(diff_entries,max_length_in)"
   ]
  },
  {
   "cell_type": "code",
   "execution_count": 83,
   "metadata": {},
   "outputs": [
    {
     "name": "stdout",
     "output_type": "stream",
     "text": [
      "[[ 0.  0.  0.  0.  0.  1.  0.  0.  0.  0.  1.  1.  0.  0.  0.  0.  0.  0.\n",
      "   0.  0.  0.  0.  1.  1.  1.  0.  1.  0.  0.  1.  1.  0.  0.  0.  0.  0.\n",
      "   1.  1.  0.  0.  0.  0.  0.  0.  1.  1.  1.  0.  0.  0.]\n",
      " [ 0.  0.  0.  0.  1.  0.  1.  0.  0.  0.  0.  0.  0.  0.  1.  0.  0.  1.\n",
      "   0.  0.  0.  0.  0.  0.  0.  0.  0.  0.  1.  0.  0.  0.  0.  1.  0.  1.\n",
      "   0.  0.  1.  1.  0.  0.  0.  0.  0.  0.  0.  0.  0.  1.]\n",
      " [ 1.  0.  1.  1.  0.  0.  0.  0.  1.  0.  0.  0.  1.  0.  0.  0.  1.  0.\n",
      "   0.  1.  0.  0.  0.  0.  0.  1.  0.  1.  0.  0.  0.  1.  1.  0.  0.  0.\n",
      "   0.  0.  0.  0.  0.  0.  1.  0.  0.  0.  0.  1.  1.  0.]\n",
      " [ 0.  1.  0.  0.  0.  0.  0.  1.  0.  1.  0.  0.  0.  1.  0.  1.  0.  0.\n",
      "   1.  0.  1.  1.  0.  0.  0.  0.  0.  0.  0.  0.  0.  0.  0.  0.  1.  0.\n",
      "   0.  0.  0.  0.  1.  1.  0.  1.  0.  0.  0.  0.  0.  0.]]\n",
      "[[ 0.  0.  0.  0.  0.  1.  0.  0.  0.  0.  1.  1.  0.  0.  0.  0.  0.  0.\n",
      "   0.  0.  0.  0.  1.  1.  1.  0.  1.  0.  0.  1.  1.  0.  0.  0.  0.  0.\n",
      "   1.  1.  0.  0.  0.  0.  0.  0.  1.  1.  1.  0.  0.  0.]\n",
      " [ 0.  0.  0.  0.  1.  0.  1.  0.  0.  0.  0.  0.  0.  0.  1.  0.  0.  1.\n",
      "   0.  0.  0.  0.  0.  0.  0.  0.  0.  0.  1.  0.  0.  0.  0.  1.  0.  1.\n",
      "   0.  0.  1.  1.  0.  0.  0.  0.  0.  0.  0.  0.  0.  1.]\n",
      " [ 1.  0.  1.  1.  0.  0.  0.  0.  1.  0.  0.  0.  1.  0.  0.  0.  1.  0.\n",
      "   0.  1.  0.  0.  0.  0.  0.  1.  0.  1.  0.  0.  0.  1.  1.  0.  0.  0.\n",
      "   0.  0.  0.  0.  0.  0.  1.  0.  0.  0.  0.  1.  1.  0.]\n",
      " [ 0.  1.  0.  0.  0.  0.  0.  1.  0.  1.  0.  0.  0.  1.  0.  1.  0.  0.\n",
      "   1.  0.  1.  1.  0.  0.  0.  0.  0.  0.  0.  0.  0.  0.  0.  0.  1.  0.\n",
      "   0.  0.  0.  0.  1.  1.  0.  1.  0.  0.  0.  0.  0.  0.]]\n"
     ]
    }
   ],
   "source": [
    "print(one_hot_ins[30000,:,50:100])\n",
    "print(one_hot_outs[30000,:,50:100])"
   ]
  },
  {
   "cell_type": "code",
   "execution_count": null,
   "metadata": {},
   "outputs": [],
   "source": []
  }
 ],
 "metadata": {
  "kernelspec": {
   "display_name": "Python 3",
   "language": "python",
   "name": "python3"
  },
  "language_info": {
   "codemirror_mode": {
    "name": "ipython",
    "version": 3
   },
   "file_extension": ".py",
   "mimetype": "text/x-python",
   "name": "python",
   "nbconvert_exporter": "python",
   "pygments_lexer": "ipython3",
   "version": "3.6.0"
  }
 },
 "nbformat": 4,
 "nbformat_minor": 2
}
